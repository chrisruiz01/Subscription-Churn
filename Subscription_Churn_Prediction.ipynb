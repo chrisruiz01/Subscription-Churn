{
 "cells": [
  {
   "cell_type": "markdown",
   "id": "20bfb0d1",
   "metadata": {},
   "source": [
    "# Subscription Churn Prediction\n",
    "\n",
    "## Table of Contents\n",
    "- [Introduction](#Introduction)\n",
    "- [Data Overview  and Preparation](#Data-Overview-and-Preparation)\n",
    "- [Exploratory Data Analysis](#Exploratory-Data-Analysis)\n",
    "- [Model Training and Evaluation](#Model-Training-and-Evaluation)\n",
    "- [Business Insights and Recommendations](#Business-Insights-and-Recommendations)"
   ]
  },
  {
   "cell_type": "markdown",
   "id": "794b4019",
   "metadata": {},
   "source": [
    "## Introduction\n",
    "\n",
    "This project uses a dataset sourced from [Kaggle](https://www.kaggle.com/datasets/sarathperingayi/performance-of-a-subscription-business) to predict customer churn in a subscription-based business. The dataset enables an in-depth analysis of customer behaviors and preferences, crucial for understanding factors influencing churn.\n",
    "\n",
    "## Dataset Overview\n",
    "The dataset encompasses comprehensive transactional and demographic information, essential for developing models to predict the likelihood of customer churn. Key attributes include:\n",
    "\n",
    "* **cust_id**: A unique identifier for each customer\n",
    "* **transaction_type**: The type of transaction\n",
    "* **transaction_date**: The date when the transaction was made\n",
    "* **subscription_type**: The type of subscription, which can be BASIC, MAX, or PRO\n",
    "* **subscription_price**: The price of the subscription\n",
    "* **customer_gender**: The gender of the customer, which can be Male or Female\n",
    "* **age_group**: The age group of the customer\n",
    "* **customer_country**: The country where the customer is located\n",
    "* **referral_type**: The type of referral, which can be Google Ads, Facebook, Display, or others\n",
    "\n",
    "## Objective\n",
    "The primary objective is to leverage this data to build a predictive model that identifies the likelihood of customers churning. Insights derived from this analysis will guide targeted strategies to enhance customer retention."
   ]
  },
  {
   "cell_type": "code",
   "execution_count": 1,
   "id": "975b74e8",
   "metadata": {
    "scrolled": false
   },
   "outputs": [
    {
     "data": {
      "text/html": [
       "<style>.container { width:100% !important; }</style>"
      ],
      "text/plain": [
       "<IPython.core.display.HTML object>"
      ]
     },
     "metadata": {},
     "output_type": "display_data"
    }
   ],
   "source": [
    "import pandas as pd\n",
    "import numpy as np\n",
    "%matplotlib inline\n",
    "import matplotlib.pyplot as plt\n",
    "import seaborn as sns\n",
    "\n",
    "from sklearn.dummy import DummyClassifier\n",
    "from sklearn.linear_model import LogisticRegression\n",
    "from sklearn.discriminant_analysis import LinearDiscriminantAnalysis\n",
    "from sklearn.svm import SVC\n",
    "from sklearn.ensemble import GradientBoostingClassifier, RandomForestClassifier\n",
    "from sklearn import metrics\n",
    "from sklearn.model_selection import train_test_split, StratifiedKFold, cross_val_score, RandomizedSearchCV\n",
    "from sklearn.metrics import f1_score, accuracy_score, recall_score, precision_score, confusion_matrix\n",
    "from sklearn.preprocessing import StandardScaler, OneHotEncoder\n",
    "from sklearn.pipeline import Pipeline\n",
    "from sklearn.compose import ColumnTransformer\n",
    "\n",
    "pd.set_option('display.max_columns', None)\n",
    "pd.set_option('display.float_format', lambda x: '%.2f' % x)\n",
    "import warnings\n",
    "warnings.filterwarnings('ignore')\n",
    "plt.rcParams['figure.dpi'] = 75\n",
    "\n",
    "from IPython.display import display, HTML\n",
    "display(HTML('<style>.container { width:100% !important; }</style>'))"
   ]
  },
  {
   "cell_type": "code",
   "execution_count": 2,
   "id": "4aea6e54",
   "metadata": {},
   "outputs": [],
   "source": [
    "df = pd.read_csv('Customer_Subscription_And_Transaction_Details.csv', parse_dates=['transaction_date'])"
   ]
  },
  {
   "cell_type": "markdown",
   "id": "48bab6ec",
   "metadata": {},
   "source": [
    "## Data Overview and Preparation"
   ]
  },
  {
   "cell_type": "code",
   "execution_count": 3,
   "id": "4c6148b5",
   "metadata": {
    "scrolled": true
   },
   "outputs": [
    {
     "data": {
      "text/html": [
       "<div>\n",
       "<style scoped>\n",
       "    .dataframe tbody tr th:only-of-type {\n",
       "        vertical-align: middle;\n",
       "    }\n",
       "\n",
       "    .dataframe tbody tr th {\n",
       "        vertical-align: top;\n",
       "    }\n",
       "\n",
       "    .dataframe thead th {\n",
       "        text-align: right;\n",
       "    }\n",
       "</style>\n",
       "<table border=\"1\" class=\"dataframe\">\n",
       "  <thead>\n",
       "    <tr style=\"text-align: right;\">\n",
       "      <th></th>\n",
       "      <th>cust_id</th>\n",
       "      <th>transaction_type</th>\n",
       "      <th>transaction_date</th>\n",
       "      <th>subscription_type</th>\n",
       "      <th>subscription_price</th>\n",
       "      <th>customer_gender</th>\n",
       "      <th>age_group</th>\n",
       "      <th>customer_country</th>\n",
       "      <th>referral_type</th>\n",
       "    </tr>\n",
       "  </thead>\n",
       "  <tbody>\n",
       "    <tr>\n",
       "      <th>0</th>\n",
       "      <td>1</td>\n",
       "      <td>initial</td>\n",
       "      <td>2020-09-01</td>\n",
       "      <td>BASIC</td>\n",
       "      <td>33</td>\n",
       "      <td>Male</td>\n",
       "      <td>35-44</td>\n",
       "      <td>Denmark</td>\n",
       "      <td>Google Ads</td>\n",
       "    </tr>\n",
       "    <tr>\n",
       "      <th>1</th>\n",
       "      <td>2</td>\n",
       "      <td>initial</td>\n",
       "      <td>2022-03-01</td>\n",
       "      <td>BASIC</td>\n",
       "      <td>53</td>\n",
       "      <td>Female</td>\n",
       "      <td>18-24</td>\n",
       "      <td>Denmark</td>\n",
       "      <td>facebook</td>\n",
       "    </tr>\n",
       "    <tr>\n",
       "      <th>2</th>\n",
       "      <td>3</td>\n",
       "      <td>initial</td>\n",
       "      <td>2020-10-01</td>\n",
       "      <td>MAX</td>\n",
       "      <td>99</td>\n",
       "      <td>Female</td>\n",
       "      <td>25-34</td>\n",
       "      <td>Norway</td>\n",
       "      <td>facebook</td>\n",
       "    </tr>\n",
       "    <tr>\n",
       "      <th>3</th>\n",
       "      <td>3</td>\n",
       "      <td>REDUCTION</td>\n",
       "      <td>2022-02-01</td>\n",
       "      <td>BASIC</td>\n",
       "      <td>53</td>\n",
       "      <td>Female</td>\n",
       "      <td>25-34</td>\n",
       "      <td>Norway</td>\n",
       "      <td>facebook</td>\n",
       "    </tr>\n",
       "    <tr>\n",
       "      <th>4</th>\n",
       "      <td>4</td>\n",
       "      <td>initial</td>\n",
       "      <td>2022-05-01</td>\n",
       "      <td>PRO</td>\n",
       "      <td>85</td>\n",
       "      <td>Male</td>\n",
       "      <td>18-24</td>\n",
       "      <td>Sweden</td>\n",
       "      <td>Display</td>\n",
       "    </tr>\n",
       "  </tbody>\n",
       "</table>\n",
       "</div>"
      ],
      "text/plain": [
       "   cust_id transaction_type transaction_date subscription_type  \\\n",
       "0        1          initial       2020-09-01             BASIC   \n",
       "1        2          initial       2022-03-01             BASIC   \n",
       "2        3          initial       2020-10-01               MAX   \n",
       "3        3        REDUCTION       2022-02-01             BASIC   \n",
       "4        4          initial       2022-05-01               PRO   \n",
       "\n",
       "   subscription_price customer_gender age_group customer_country referral_type  \n",
       "0                  33            Male     35-44          Denmark    Google Ads  \n",
       "1                  53          Female     18-24          Denmark      facebook  \n",
       "2                  99          Female     25-34           Norway      facebook  \n",
       "3                  53          Female     25-34           Norway      facebook  \n",
       "4                  85            Male     18-24           Sweden       Display  "
      ]
     },
     "execution_count": 3,
     "metadata": {},
     "output_type": "execute_result"
    }
   ],
   "source": [
    "df.head()"
   ]
  },
  {
   "cell_type": "code",
   "execution_count": 4,
   "id": "9cb050d4",
   "metadata": {},
   "outputs": [
    {
     "name": "stdout",
     "output_type": "stream",
     "text": [
      "<class 'pandas.core.frame.DataFrame'>\n",
      "RangeIndex: 18106 entries, 0 to 18105\n",
      "Data columns (total 9 columns):\n",
      " #   Column              Non-Null Count  Dtype         \n",
      "---  ------              --------------  -----         \n",
      " 0   cust_id             18106 non-null  int64         \n",
      " 1   transaction_type    18106 non-null  object        \n",
      " 2   transaction_date    18106 non-null  datetime64[ns]\n",
      " 3   subscription_type   18106 non-null  object        \n",
      " 4   subscription_price  18106 non-null  int64         \n",
      " 5   customer_gender     18106 non-null  object        \n",
      " 6   age_group           18106 non-null  object        \n",
      " 7   customer_country    18106 non-null  object        \n",
      " 8   referral_type       18106 non-null  object        \n",
      "dtypes: datetime64[ns](1), int64(2), object(6)\n",
      "memory usage: 1.2+ MB\n"
     ]
    }
   ],
   "source": [
    "df.info()"
   ]
  },
  {
   "cell_type": "code",
   "execution_count": 5,
   "id": "2ac073f2",
   "metadata": {},
   "outputs": [
    {
     "data": {
      "text/plain": [
       "0"
      ]
     },
     "execution_count": 5,
     "metadata": {},
     "output_type": "execute_result"
    }
   ],
   "source": [
    "df.duplicated().sum()"
   ]
  },
  {
   "cell_type": "code",
   "execution_count": 6,
   "id": "d4c6530f",
   "metadata": {},
   "outputs": [
    {
     "data": {
      "text/html": [
       "<div>\n",
       "<style scoped>\n",
       "    .dataframe tbody tr th:only-of-type {\n",
       "        vertical-align: middle;\n",
       "    }\n",
       "\n",
       "    .dataframe tbody tr th {\n",
       "        vertical-align: top;\n",
       "    }\n",
       "\n",
       "    .dataframe thead th {\n",
       "        text-align: right;\n",
       "    }\n",
       "</style>\n",
       "<table border=\"1\" class=\"dataframe\">\n",
       "  <thead>\n",
       "    <tr style=\"text-align: right;\">\n",
       "      <th></th>\n",
       "      <th>cust_id</th>\n",
       "      <th>transaction_date</th>\n",
       "      <th>subscription_price</th>\n",
       "    </tr>\n",
       "  </thead>\n",
       "  <tbody>\n",
       "    <tr>\n",
       "      <th>count</th>\n",
       "      <td>18106.00</td>\n",
       "      <td>18106</td>\n",
       "      <td>18106.00</td>\n",
       "    </tr>\n",
       "    <tr>\n",
       "      <th>mean</th>\n",
       "      <td>5176.00</td>\n",
       "      <td>2021-08-22 10:08:05.938363136</td>\n",
       "      <td>73.00</td>\n",
       "    </tr>\n",
       "    <tr>\n",
       "      <th>min</th>\n",
       "      <td>1.00</td>\n",
       "      <td>2020-01-01 00:00:00</td>\n",
       "      <td>33.00</td>\n",
       "    </tr>\n",
       "    <tr>\n",
       "      <th>25%</th>\n",
       "      <td>2590.00</td>\n",
       "      <td>2021-01-01 00:00:00</td>\n",
       "      <td>53.00</td>\n",
       "    </tr>\n",
       "    <tr>\n",
       "      <th>50%</th>\n",
       "      <td>5158.00</td>\n",
       "      <td>2021-10-01 00:00:00</td>\n",
       "      <td>75.00</td>\n",
       "    </tr>\n",
       "    <tr>\n",
       "      <th>75%</th>\n",
       "      <td>7767.00</td>\n",
       "      <td>2022-05-01 00:00:00</td>\n",
       "      <td>99.00</td>\n",
       "    </tr>\n",
       "    <tr>\n",
       "      <th>max</th>\n",
       "      <td>10366.00</td>\n",
       "      <td>2022-12-01 00:00:00</td>\n",
       "      <td>119.00</td>\n",
       "    </tr>\n",
       "    <tr>\n",
       "      <th>std</th>\n",
       "      <td>2989.00</td>\n",
       "      <td>NaN</td>\n",
       "      <td>28.00</td>\n",
       "    </tr>\n",
       "  </tbody>\n",
       "</table>\n",
       "</div>"
      ],
      "text/plain": [
       "       cust_id               transaction_date  subscription_price\n",
       "count 18106.00                          18106            18106.00\n",
       "mean   5176.00  2021-08-22 10:08:05.938363136               73.00\n",
       "min       1.00            2020-01-01 00:00:00               33.00\n",
       "25%    2590.00            2021-01-01 00:00:00               53.00\n",
       "50%    5158.00            2021-10-01 00:00:00               75.00\n",
       "75%    7767.00            2022-05-01 00:00:00               99.00\n",
       "max   10366.00            2022-12-01 00:00:00              119.00\n",
       "std    2989.00                            NaN               28.00"
      ]
     },
     "execution_count": 6,
     "metadata": {},
     "output_type": "execute_result"
    }
   ],
   "source": [
    "round(df.describe())"
   ]
  },
  {
   "cell_type": "code",
   "execution_count": 7,
   "id": "d4867770",
   "metadata": {},
   "outputs": [
    {
     "data": {
      "text/html": [
       "<div>\n",
       "<style scoped>\n",
       "    .dataframe tbody tr th:only-of-type {\n",
       "        vertical-align: middle;\n",
       "    }\n",
       "\n",
       "    .dataframe tbody tr th {\n",
       "        vertical-align: top;\n",
       "    }\n",
       "\n",
       "    .dataframe thead th {\n",
       "        text-align: right;\n",
       "    }\n",
       "</style>\n",
       "<table border=\"1\" class=\"dataframe\">\n",
       "  <thead>\n",
       "    <tr style=\"text-align: right;\">\n",
       "      <th></th>\n",
       "      <th>transaction_type</th>\n",
       "      <th>subscription_type</th>\n",
       "      <th>customer_gender</th>\n",
       "      <th>age_group</th>\n",
       "      <th>customer_country</th>\n",
       "      <th>referral_type</th>\n",
       "    </tr>\n",
       "  </thead>\n",
       "  <tbody>\n",
       "    <tr>\n",
       "      <th>count</th>\n",
       "      <td>18106</td>\n",
       "      <td>18106</td>\n",
       "      <td>18106</td>\n",
       "      <td>18106</td>\n",
       "      <td>18106</td>\n",
       "      <td>18106</td>\n",
       "    </tr>\n",
       "    <tr>\n",
       "      <th>unique</th>\n",
       "      <td>4</td>\n",
       "      <td>3</td>\n",
       "      <td>3</td>\n",
       "      <td>5</td>\n",
       "      <td>4</td>\n",
       "      <td>8</td>\n",
       "    </tr>\n",
       "    <tr>\n",
       "      <th>top</th>\n",
       "      <td>initial</td>\n",
       "      <td>BASIC</td>\n",
       "      <td>Female</td>\n",
       "      <td>18-24</td>\n",
       "      <td>Sweden</td>\n",
       "      <td>Google Ads</td>\n",
       "    </tr>\n",
       "    <tr>\n",
       "      <th>freq</th>\n",
       "      <td>10366</td>\n",
       "      <td>7022</td>\n",
       "      <td>9457</td>\n",
       "      <td>4401</td>\n",
       "      <td>7009</td>\n",
       "      <td>5884</td>\n",
       "    </tr>\n",
       "  </tbody>\n",
       "</table>\n",
       "</div>"
      ],
      "text/plain": [
       "       transaction_type subscription_type customer_gender age_group  \\\n",
       "count             18106             18106           18106     18106   \n",
       "unique                4                 3               3         5   \n",
       "top             initial             BASIC          Female     18-24   \n",
       "freq              10366              7022            9457      4401   \n",
       "\n",
       "       customer_country referral_type  \n",
       "count             18106         18106  \n",
       "unique                4             8  \n",
       "top              Sweden    Google Ads  \n",
       "freq               7009          5884  "
      ]
     },
     "execution_count": 7,
     "metadata": {},
     "output_type": "execute_result"
    }
   ],
   "source": [
    "df.describe(include='object')"
   ]
  },
  {
   "cell_type": "code",
   "execution_count": 8,
   "id": "881f4314",
   "metadata": {},
   "outputs": [],
   "source": [
    "# Create binary target column churn from transaction_type\n",
    "df['churn'] = (df['transaction_type'] == 'CHURN').astype(int)"
   ]
  },
  {
   "cell_type": "markdown",
   "id": "34f415f5",
   "metadata": {},
   "source": [
    "## Data Cleaning"
   ]
  },
  {
   "cell_type": "code",
   "execution_count": 9,
   "id": "28882344",
   "metadata": {},
   "outputs": [],
   "source": [
    "# Uppercase transaction_type levels for consistency\n",
    "df['transaction_type'] = df['transaction_type'].str.upper()"
   ]
  },
  {
   "cell_type": "code",
   "execution_count": 10,
   "id": "3dd66648",
   "metadata": {},
   "outputs": [],
   "source": [
    "# Duplicate transaction_dates by customer\n",
    "dupe_date = df.groupby(['cust_id', 'transaction_date']).filter(lambda x: len(x) > 1)\n",
    "\n",
    "# Indexes where `transaction_type` is not CHURN\n",
    "dupe_date_index = dupe_date[dupe_date['transaction_type'] != 'CHURN'].index\n",
    "\n",
    "# Excluding those indexes\n",
    "sorted_df_1 = df[~df.index.isin(dupe_date_index)]"
   ]
  },
  {
   "cell_type": "code",
   "execution_count": 11,
   "id": "a542be9e",
   "metadata": {
    "scrolled": false
   },
   "outputs": [],
   "source": [
    "# Duplicate transaction_type by customer\n",
    "dupe_transaction_type = sorted_df_1.groupby(['cust_id', 'transaction_type']).filter(lambda x: len(x) > 1)\n",
    "\n",
    "# Excluding indexes \n",
    "dupe_transaction_type_index = dupe_transaction_type.drop_duplicates(subset=['cust_id', 'transaction_type'], keep='last').index\n",
    "sorted_df_2 = sorted_df_1[~sorted_df_1.index.isin(dupe_transaction_type_index)]\n",
    "\n",
    "# Remaining duplicate transaction_type by customer\n",
    "dupe_transaction_type_1 = sorted_df_2.groupby(['cust_id', 'transaction_type']).filter(lambda x: len(x) > 1)\n",
    "\n",
    "# Excluding indexes \n",
    "dupe_transaction_type_index_1 = dupe_transaction_type_1.drop_duplicates(subset=['cust_id', 'transaction_type'], keep='last').index\n",
    "sorted_df_3 = sorted_df_2[~sorted_df_2.index.isin(dupe_transaction_type_index_1)]"
   ]
  },
  {
   "cell_type": "code",
   "execution_count": 12,
   "id": "f1f615fe",
   "metadata": {},
   "outputs": [],
   "source": [
    "# Renaming dataframe to indicate deduped records and resetting the index\n",
    "deduped_df = sorted_df_3.copy().reset_index(drop=True)"
   ]
  },
  {
   "cell_type": "markdown",
   "id": "c1ac5124",
   "metadata": {},
   "source": [
    "## Feature Engineering"
   ]
  },
  {
   "cell_type": "code",
   "execution_count": 13,
   "id": "e622f87c",
   "metadata": {},
   "outputs": [],
   "source": [
    "# Adding acquisition_date column\n",
    "acquisition_date = deduped_df[deduped_df['transaction_type'] == 'INITIAL'][['cust_id', 'transaction_date']]\n",
    "acquisition_date.rename(columns={'transaction_date': 'acquisition_date'}, inplace=True)"
   ]
  },
  {
   "cell_type": "code",
   "execution_count": 14,
   "id": "4ab77f3b",
   "metadata": {
    "scrolled": true
   },
   "outputs": [],
   "source": [
    "# Adding end_date column (two steps consisting of churned and non-churned customers)\n",
    "\n",
    "# Step 1: Churned customers\n",
    "end_churn = deduped_df[deduped_df['transaction_type'] == 'CHURN'][['cust_id', 'transaction_date']]\n",
    "end_churn.rename(columns={'transaction_date': 'end_date'}, inplace=True)\n",
    "\n",
    "# Customers who churned\n",
    "end_churn_cust = end_churn['cust_id']\n",
    "\n",
    "# Step2: Non-churned customers \n",
    "end_no_churn = deduped_df[~deduped_df['cust_id'].isin(end_churn_cust)][['cust_id']].drop_duplicates()\n",
    "\n",
    "# Final date in the dataset\n",
    "max_date = deduped_df[deduped_df['transaction_type'] != 'CHURN']['transaction_date'].max()\n",
    "\n",
    "# Appending as end_date for non-churners\n",
    "end_no_churn['end_date'] = max_date\n",
    "\n",
    "# Unioning end date for churners and non-churners\n",
    "end_date = pd.concat([end_churn, end_no_churn])\n",
    "\n",
    "# Merging acquisition_date and end_date\n",
    "acquisition_end = acquisition_date.merge(end_date, on='cust_id')"
   ]
  },
  {
   "cell_type": "code",
   "execution_count": 15,
   "id": "2ec6bf8c",
   "metadata": {},
   "outputs": [],
   "source": [
    "# Adding tenure column\n",
    "acquisition_end['tenure'] = (acquisition_end['end_date'] - acquisition_end['acquisition_date']).dt.days\n",
    "\n",
    "# Since transaction dates are all on the 1st of the month, tenure should represent the entire month\n",
    "# so there are no customers with zero days tenure Therefore, incrementing tenure by 30\n",
    "acquisition_end['tenure'] = acquisition_end['tenure'] + 30"
   ]
  },
  {
   "cell_type": "code",
   "execution_count": 16,
   "id": "df04a0aa",
   "metadata": {},
   "outputs": [],
   "source": [
    "# Adding avg_price column\n",
    "avg_price = deduped_df.groupby(['cust_id'])[['subscription_price']].mean()\n",
    "avg_price.rename(columns={'subscription_price': 'avg_price'}, inplace=True)\n",
    "\n",
    "# Merging to the dates data frame\n",
    "acquisition_end_price = acquisition_end.merge(avg_price, on='cust_id')"
   ]
  },
  {
   "cell_type": "code",
   "execution_count": 17,
   "id": "ef2ee09a",
   "metadata": {},
   "outputs": [],
   "source": [
    "# Unique records for categorical features\n",
    "cust_dems_channel = deduped_df[['cust_id', 'customer_gender', 'age_group', 'customer_country', 'referral_type']].drop_duplicates()"
   ]
  },
  {
   "cell_type": "code",
   "execution_count": 18,
   "id": "c9d15cc5",
   "metadata": {},
   "outputs": [],
   "source": [
    "# Unique customers who churned to append churn as the final column\n",
    "churned = deduped_df[deduped_df['churn'] == 1][['cust_id', 'churn']]\n",
    "\n",
    "# Customers to exclude from non-churned data frame\n",
    "churned_cust = churned['cust_id']\n",
    "\n",
    "non_churned = deduped_df[~deduped_df['cust_id'].isin(churned_cust)][['cust_id', 'churn']].drop_duplicates()\n",
    "\n",
    "# Union and assing to target\n",
    "target = pd.concat([churned, non_churned])"
   ]
  },
  {
   "cell_type": "code",
   "execution_count": 19,
   "id": "7df15c14",
   "metadata": {},
   "outputs": [
    {
     "data": {
      "text/html": [
       "<div>\n",
       "<style scoped>\n",
       "    .dataframe tbody tr th:only-of-type {\n",
       "        vertical-align: middle;\n",
       "    }\n",
       "\n",
       "    .dataframe tbody tr th {\n",
       "        vertical-align: top;\n",
       "    }\n",
       "\n",
       "    .dataframe thead th {\n",
       "        text-align: right;\n",
       "    }\n",
       "</style>\n",
       "<table border=\"1\" class=\"dataframe\">\n",
       "  <thead>\n",
       "    <tr style=\"text-align: right;\">\n",
       "      <th></th>\n",
       "      <th>cust_id</th>\n",
       "      <th>acquisition_date</th>\n",
       "      <th>end_date</th>\n",
       "      <th>tenure</th>\n",
       "      <th>avg_price</th>\n",
       "      <th>customer_gender</th>\n",
       "      <th>age_group</th>\n",
       "      <th>customer_country</th>\n",
       "      <th>referral_type</th>\n",
       "      <th>churn</th>\n",
       "    </tr>\n",
       "  </thead>\n",
       "  <tbody>\n",
       "    <tr>\n",
       "      <th>0</th>\n",
       "      <td>1</td>\n",
       "      <td>2020-09-01</td>\n",
       "      <td>2022-12-01</td>\n",
       "      <td>851</td>\n",
       "      <td>33.00</td>\n",
       "      <td>Male</td>\n",
       "      <td>35-44</td>\n",
       "      <td>Denmark</td>\n",
       "      <td>Google Ads</td>\n",
       "      <td>0</td>\n",
       "    </tr>\n",
       "    <tr>\n",
       "      <th>1</th>\n",
       "      <td>2</td>\n",
       "      <td>2022-03-01</td>\n",
       "      <td>2022-12-01</td>\n",
       "      <td>305</td>\n",
       "      <td>53.00</td>\n",
       "      <td>Female</td>\n",
       "      <td>18-24</td>\n",
       "      <td>Denmark</td>\n",
       "      <td>facebook</td>\n",
       "      <td>0</td>\n",
       "    </tr>\n",
       "    <tr>\n",
       "      <th>2</th>\n",
       "      <td>3</td>\n",
       "      <td>2020-10-01</td>\n",
       "      <td>2022-12-01</td>\n",
       "      <td>821</td>\n",
       "      <td>76.00</td>\n",
       "      <td>Female</td>\n",
       "      <td>25-34</td>\n",
       "      <td>Norway</td>\n",
       "      <td>facebook</td>\n",
       "      <td>0</td>\n",
       "    </tr>\n",
       "    <tr>\n",
       "      <th>3</th>\n",
       "      <td>4</td>\n",
       "      <td>2022-05-01</td>\n",
       "      <td>2022-12-01</td>\n",
       "      <td>244</td>\n",
       "      <td>85.00</td>\n",
       "      <td>Male</td>\n",
       "      <td>18-24</td>\n",
       "      <td>Sweden</td>\n",
       "      <td>Display</td>\n",
       "      <td>0</td>\n",
       "    </tr>\n",
       "    <tr>\n",
       "      <th>4</th>\n",
       "      <td>5</td>\n",
       "      <td>2022-08-01</td>\n",
       "      <td>2022-12-01</td>\n",
       "      <td>152</td>\n",
       "      <td>53.00</td>\n",
       "      <td>Male</td>\n",
       "      <td>35-44</td>\n",
       "      <td>Sweden</td>\n",
       "      <td>Google Ads</td>\n",
       "      <td>0</td>\n",
       "    </tr>\n",
       "  </tbody>\n",
       "</table>\n",
       "</div>"
      ],
      "text/plain": [
       "   cust_id acquisition_date   end_date  tenure  avg_price customer_gender  \\\n",
       "0        1       2020-09-01 2022-12-01     851      33.00            Male   \n",
       "1        2       2022-03-01 2022-12-01     305      53.00          Female   \n",
       "2        3       2020-10-01 2022-12-01     821      76.00          Female   \n",
       "3        4       2022-05-01 2022-12-01     244      85.00            Male   \n",
       "4        5       2022-08-01 2022-12-01     152      53.00            Male   \n",
       "\n",
       "  age_group customer_country referral_type  churn  \n",
       "0     35-44          Denmark    Google Ads      0  \n",
       "1     18-24          Denmark      facebook      0  \n",
       "2     25-34           Norway      facebook      0  \n",
       "3     18-24           Sweden       Display      0  \n",
       "4     35-44           Sweden    Google Ads      0  "
      ]
     },
     "execution_count": 19,
     "metadata": {},
     "output_type": "execute_result"
    }
   ],
   "source": [
    "# Merging everything into final data frame\n",
    "final_df = acquisition_end_price.merge(cust_dems_channel, on='cust_id').merge(target, on='cust_id')\n",
    "final_df.head()"
   ]
  },
  {
   "cell_type": "code",
   "execution_count": 20,
   "id": "062afabd",
   "metadata": {},
   "outputs": [
    {
     "name": "stdout",
     "output_type": "stream",
     "text": [
      "Unique customer count: 10366\n",
      "\n",
      "Churn distribution:\n",
      "     churn\n",
      "0    8314\n",
      "1    2052\n",
      "Name: count, dtype: int64\n"
     ]
    }
   ],
   "source": [
    "# Unique count of total customers and churned customers in initial data frame to validate against final data frame\n",
    "unique_customers = df['cust_id'].nunique()\n",
    "churned_customer_count = df[df['transaction_type'] == 'CHURN']['cust_id'].nunique()\n",
    "\n",
    "# Final data frame unique customer count and target classes\n",
    "final_unique_customers = final_df['cust_id'].nunique()\n",
    "churn_distribution = final_df['churn'].value_counts()\n",
    "\n",
    "if final_unique_customers == unique_customers and churn_distribution[1] == churned_customer_count:\n",
    "    print(f'Unique customer count: {final_unique_customers}')\n",
    "    print(f'\\nChurn distribution:\\n    ', churn_distribution)\n",
    "else: \n",
    "    print(\"Total customer count and target distribution not validated\")"
   ]
  },
  {
   "cell_type": "markdown",
   "id": "da931c67",
   "metadata": {},
   "source": [
    "## Exploratory Data Analysis"
   ]
  },
  {
   "cell_type": "code",
   "execution_count": 21,
   "id": "a93b5bf2",
   "metadata": {},
   "outputs": [],
   "source": [
    "data = final_df.copy()"
   ]
  },
  {
   "cell_type": "markdown",
   "id": "fc9a3f42",
   "metadata": {},
   "source": [
    "### Univariate Analysis"
   ]
  },
  {
   "cell_type": "code",
   "execution_count": 22,
   "id": "d54ddae0",
   "metadata": {},
   "outputs": [
    {
     "data": {
      "image/png": "[encoded data removed]",
      "text/plain": [
       "<Figure size 900x375 with 2 Axes>"
      ]
     },
     "metadata": {},
     "output_type": "display_data"
    }
   ],
   "source": [
    "nums = data[['tenure', 'avg_price']].columns.tolist()\n",
    "plt.figure(figsize=(12, 5))\n",
    "\n",
    "for i, variable in enumerate(nums):\n",
    "    plt.subplot(1, 2, i + 1)\n",
    "    sns.histplot(data[variable], kde=True)\n",
    "    plt.title(f'Distribution of {variable}')\n",
    "plt.tight_layout(pad=3)\n",
    "plt.show()"
   ]
  },
  {
   "cell_type": "code",
   "execution_count": 23,
   "id": "a85510ff",
   "metadata": {},
   "outputs": [
    {
     "data": {
      "text/html": [
       "<div>\n",
       "<style scoped>\n",
       "    .dataframe tbody tr th:only-of-type {\n",
       "        vertical-align: middle;\n",
       "    }\n",
       "\n",
       "    .dataframe tbody tr th {\n",
       "        vertical-align: top;\n",
       "    }\n",
       "\n",
       "    .dataframe thead th {\n",
       "        text-align: right;\n",
       "    }\n",
       "</style>\n",
       "<table border=\"1\" class=\"dataframe\">\n",
       "  <thead>\n",
       "    <tr style=\"text-align: right;\">\n",
       "      <th></th>\n",
       "      <th>count</th>\n",
       "      <th>mean</th>\n",
       "      <th>std</th>\n",
       "      <th>min</th>\n",
       "      <th>25%</th>\n",
       "      <th>50%</th>\n",
       "      <th>75%</th>\n",
       "      <th>max</th>\n",
       "    </tr>\n",
       "  </thead>\n",
       "  <tbody>\n",
       "    <tr>\n",
       "      <th>tenure</th>\n",
       "      <td>10366.00</td>\n",
       "      <td>483.77</td>\n",
       "      <td>301.05</td>\n",
       "      <td>30.00</td>\n",
       "      <td>221.00</td>\n",
       "      <td>425.00</td>\n",
       "      <td>729.00</td>\n",
       "      <td>1095.00</td>\n",
       "    </tr>\n",
       "    <tr>\n",
       "      <th>avg_price</th>\n",
       "      <td>10366.00</td>\n",
       "      <td>72.29</td>\n",
       "      <td>21.60</td>\n",
       "      <td>33.00</td>\n",
       "      <td>53.00</td>\n",
       "      <td>71.00</td>\n",
       "      <td>87.00</td>\n",
       "      <td>119.00</td>\n",
       "    </tr>\n",
       "  </tbody>\n",
       "</table>\n",
       "</div>"
      ],
      "text/plain": [
       "             count   mean    std   min    25%    50%    75%     max\n",
       "tenure    10366.00 483.77 301.05 30.00 221.00 425.00 729.00 1095.00\n",
       "avg_price 10366.00  72.29  21.60 33.00  53.00  71.00  87.00  119.00"
      ]
     },
     "execution_count": 23,
     "metadata": {},
     "output_type": "execute_result"
    }
   ],
   "source": [
    "data[['tenure', 'avg_price']].describe().T"
   ]
  },
  {
   "cell_type": "markdown",
   "id": "bd8965ae",
   "metadata": {},
   "source": [
    "The median tenure is 425 days. Let's convert days into months for a clearer time-scale understanding"
   ]
  },
  {
   "cell_type": "code",
   "execution_count": 24,
   "id": "dedaa1ee",
   "metadata": {},
   "outputs": [
    {
     "name": "stdout",
     "output_type": "stream",
     "text": [
      "The median tenure is about 14 months.\n"
     ]
    }
   ],
   "source": [
    "median_tenure = data['tenure'].median()\n",
    "days_in_year = 365\n",
    "months_in_year = 12\n",
    "\n",
    "tenure_months = round((median_tenure / days_in_year) * months_in_year)\n",
    "print(f'The median tenure is about {tenure_months} months.')"
   ]
  },
  {
   "cell_type": "markdown",
   "id": "b10e8940",
   "metadata": {},
   "source": [
    "What's the mode of avg_price?"
   ]
  },
  {
   "cell_type": "code",
   "execution_count": 25,
   "id": "438320aa",
   "metadata": {},
   "outputs": [
    {
     "data": {
      "text/plain": [
       "53.0"
      ]
     },
     "execution_count": 25,
     "metadata": {},
     "output_type": "execute_result"
    }
   ],
   "source": [
    "data['avg_price'].mode().iloc[0]"
   ]
  },
  {
   "cell_type": "markdown",
   "id": "b77b3818",
   "metadata": {},
   "source": [
    "* **Tenure**: Half of the customers churn after about 14 months, as indicated by the `tenure` column, while the other half remain customers for up to three years. This variance suggests different customer experiences and engagement levels. \n",
    "* **Average Price**: The `avg_price` column shows a bimodal distribution with peaks around \\\\$53 and \\\\$82.\n",
    "    * The most frequent average price of \\\\$53 is located at the 25th percentile, contrasting with a cluster around \\\\$80 and a mean of \\\\$71. This indicates that a significant segment of customers choose BASIC plans, potentially missing out on more premium plan benefits. These customers are also more likely to churn earlier. "
   ]
  },
  {
   "cell_type": "markdown",
   "id": "3486ad6a",
   "metadata": {},
   "source": [
    "### Multivariate Analysis"
   ]
  },
  {
   "cell_type": "code",
   "execution_count": 26,
   "id": "62e5ac06",
   "metadata": {},
   "outputs": [
    {
     "data": {
      "image/png": "[encoded data removed]",
      "text/plain": [
       "<Figure size 900x450 with 2 Axes>"
      ]
     },
     "metadata": {},
     "output_type": "display_data"
    }
   ],
   "source": [
    "# Creating a list of numerical features for plotting\n",
    "num_cols = data[['tenure', 'avg_price', 'churn']]\n",
    "num_cols.corr()\n",
    "\n",
    "plt.figure(figsize=(12, 6))\n",
    "sns.heatmap(num_cols.corr(), annot=True, vmin=-1, vmax=1, fmt='.2f', cmap='Spectral')\n",
    "plt.show()"
   ]
  },
  {
   "cell_type": "markdown",
   "id": "15358d2e",
   "metadata": {},
   "source": [
    "* `churn` and `tenure`: `churn` has a slightly negative correlation with `tenure` (-0.22), suggesting that customers who keep their subscription longer are less likely to churn.\n",
    "* `churn` and `avg_price`: `churn` also has a slighly negative correlation with `avg_price` (-0.14), suggesting that customers who pay more for their subscription (MAX or PRO plans vs BASIC) are less likely to churn.\n",
    "* `avg_price` and `tenure`: `avg_price` has a very slight negative correlation with `tenure`."
   ]
  },
  {
   "cell_type": "markdown",
   "id": "899913ba",
   "metadata": {},
   "source": [
    "`churn` vs numerical features"
   ]
  },
  {
   "cell_type": "code",
   "execution_count": 27,
   "id": "9d94429b",
   "metadata": {
    "scrolled": true
   },
   "outputs": [
    {
     "data": {
      "image/png": "[encoded data removed]",
      "text/plain": [
       "<Figure size 750x300 with 2 Axes>"
      ]
     },
     "metadata": {},
     "output_type": "display_data"
    }
   ],
   "source": [
    "plt.figure(figsize=(10, 4))\n",
    "\n",
    "plt.subplot(121)\n",
    "sns.boxplot(data=data, x='churn', y='tenure', hue='churn')\n",
    "\n",
    "plt.subplot(122)\n",
    "sns.boxplot(data=data, x='churn', y='avg_price', hue='churn')\n",
    "plt.show()"
   ]
  },
  {
   "cell_type": "markdown",
   "id": "315baa57",
   "metadata": {},
   "source": [
    "* Churned customers typically have much shorter tenures than non-churners, indicating lower retention.\n",
    "* Churned customers also generally pay lower average prices compared to non-churners."
   ]
  },
  {
   "cell_type": "markdown",
   "id": "3c26c44c",
   "metadata": {},
   "source": [
    "`churn` vs categorical features"
   ]
  },
  {
   "cell_type": "code",
   "execution_count": 28,
   "id": "e5af132c",
   "metadata": {},
   "outputs": [
    {
     "data": {
      "image/png": "[encoded data removed]",
      "text/plain": [
       "<Figure size 900x600 with 4 Axes>"
      ]
     },
     "metadata": {},
     "output_type": "display_data"
    }
   ],
   "source": [
    "# Creating a list of categories for plotting\n",
    "categories = ['customer_gender', 'age_group', 'customer_country', 'referral_type']\n",
    "\n",
    "# Ordering each category for plotting\n",
    "orders = {cat: data[cat].value_counts().index for cat in categories}\n",
    "\n",
    "fig, axes = plt.subplots(2, 2, figsize=(12, 8))\n",
    "axes = axes.flatten()  \n",
    "\n",
    "for i, cat in enumerate(categories[:4]): \n",
    "    sns.countplot(x=cat, hue='churn', data=data, ax=axes[i], order=orders[cat])\n",
    "    axes[i].set_title(f'Churn by {cat.capitalize().replace(\"_\", \" \")}')\n",
    "    axes[i].legend(title='Churn')\n",
    "    if cat == 'referral_type':\n",
    "        for label in axes[i].get_xticklabels():\n",
    "            label.set_rotation(90)  \n",
    "\n",
    "plt.tight_layout()\n",
    "plt.show()"
   ]
  },
  {
   "cell_type": "markdown",
   "id": "9de83e21",
   "metadata": {},
   "source": [
    "* The ratio of churned to non-churned appears to be split evenly among nearly all levels within `customer_gender`, `age_group`, and `referral_type`."
   ]
  },
  {
   "cell_type": "markdown",
   "id": "a9ca8847",
   "metadata": {},
   "source": [
    "Churn by country has more variation, so let's take a closer look at those churn rates."
   ]
  },
  {
   "cell_type": "markdown",
   "id": "ac5a1aa1",
   "metadata": {},
   "source": [
    "Churn by country has more variation, so let's take a closer look at those churn rates."
   ]
  },
  {
   "cell_type": "code",
   "execution_count": 29,
   "id": "6cad8f3f",
   "metadata": {},
   "outputs": [
    {
     "data": {
      "text/html": [
       "<div>\n",
       "<style scoped>\n",
       "    .dataframe tbody tr th:only-of-type {\n",
       "        vertical-align: middle;\n",
       "    }\n",
       "\n",
       "    .dataframe tbody tr th {\n",
       "        vertical-align: top;\n",
       "    }\n",
       "\n",
       "    .dataframe thead th {\n",
       "        text-align: right;\n",
       "    }\n",
       "</style>\n",
       "<table border=\"1\" class=\"dataframe\">\n",
       "  <thead>\n",
       "    <tr style=\"text-align: right;\">\n",
       "      <th></th>\n",
       "      <th>Customer Country</th>\n",
       "      <th>Churn Rate (%)</th>\n",
       "    </tr>\n",
       "  </thead>\n",
       "  <tbody>\n",
       "    <tr>\n",
       "      <th>1</th>\n",
       "      <td>Finland</td>\n",
       "      <td>35.44</td>\n",
       "    </tr>\n",
       "    <tr>\n",
       "      <th>0</th>\n",
       "      <td>Denmark</td>\n",
       "      <td>30.10</td>\n",
       "    </tr>\n",
       "    <tr>\n",
       "      <th>3</th>\n",
       "      <td>Sweden</td>\n",
       "      <td>13.18</td>\n",
       "    </tr>\n",
       "    <tr>\n",
       "      <th>2</th>\n",
       "      <td>Norway</td>\n",
       "      <td>7.55</td>\n",
       "    </tr>\n",
       "  </tbody>\n",
       "</table>\n",
       "</div>"
      ],
      "text/plain": [
       "  Customer Country  Churn Rate (%)\n",
       "1          Finland           35.44\n",
       "0          Denmark           30.10\n",
       "3           Sweden           13.18\n",
       "2           Norway            7.55"
      ]
     },
     "execution_count": 29,
     "metadata": {},
     "output_type": "execute_result"
    }
   ],
   "source": [
    "total_customers = data.groupby('customer_country')['churn'].count()\n",
    "churned_customers = data[data['churn'] == 1].groupby('customer_country')['churn'].count()\n",
    "\n",
    "churn_rate_by_country = (churned_customers / total_customers * 100).fillna(0)  # Multiplying by 100 to get a percentage\n",
    "churn_rate_df = churn_rate_by_country.reset_index()\n",
    "churn_rate_df.columns = ['Customer Country', 'Churn Rate (%)']\n",
    "churn_rate_df.sort_values('Churn Rate (%)', ascending=False)"
   ]
  },
  {
   "cell_type": "markdown",
   "id": "8ffd512d",
   "metadata": {},
   "source": [
    "* Finland and Denmark have the highest churn rates. Customers in Finland have about 3x churn vs Sweden and 5x churn vs Norway. \n",
    "* The company should investigate what's being done differently in Norway and Sweden that could possibly work in Finland and Denmark to lift retention rates among those customers."
   ]
  },
  {
   "cell_type": "markdown",
   "id": "c2fb0e19",
   "metadata": {},
   "source": [
    "What prices are customers paying across countries?"
   ]
  },
  {
   "cell_type": "code",
   "execution_count": 30,
   "id": "7fd7cc74",
   "metadata": {},
   "outputs": [
    {
     "data": {
      "image/png": "[encoded data removed]",
      "text/plain": [
       "<Figure size 419.125x375 with 1 Axes>"
      ]
     },
     "metadata": {},
     "output_type": "display_data"
    }
   ],
   "source": [
    "sns.catplot(data=data, x='customer_country', y='avg_price', kind='point', hue='churn')\n",
    "plt.show()"
   ]
  },
  {
   "cell_type": "markdown",
   "id": "bc932bfc",
   "metadata": {},
   "source": [
    "* Churned customers are clearly paying lower average prices. This is most evident in the two countries with the highest churn rates, Denmark and Finland, which have the highest variance. "
   ]
  },
  {
   "cell_type": "markdown",
   "id": "ba703e87",
   "metadata": {},
   "source": [
    "What does churn look like over time?"
   ]
  },
  {
   "cell_type": "code",
   "execution_count": 31,
   "id": "6ecc7f62",
   "metadata": {},
   "outputs": [
    {
     "data": {
      "image/png": "[encoded data removed]",
      "text/plain": [
       "<Figure size 750x375 with 1 Axes>"
      ]
     },
     "metadata": {},
     "output_type": "display_data"
    }
   ],
   "source": [
    "churn_over_time = data.groupby('end_date')['churn'].sum().reset_index()\n",
    "churn_over_time = churn_over_time[:-1]\n",
    "\n",
    "plt.figure(figsize=(10, 5))\n",
    "sns.lineplot(x='end_date', y='churn', data=churn_over_time, marker='o')\n",
    "plt.title('Churn Over Time')\n",
    "plt.xlabel('Month')\n",
    "plt.ylabel('Number of Churn Events')\n",
    "plt.grid(True)\n",
    "plt.xticks(rotation=45) \n",
    "plt.tight_layout()\n",
    "plt.show()"
   ]
  },
  {
   "cell_type": "markdown",
   "id": "1c369e45",
   "metadata": {},
   "source": [
    "* The overall churn has been increasing over the three years. "
   ]
  },
  {
   "cell_type": "markdown",
   "id": "63dcb812",
   "metadata": {},
   "source": [
    "What does avg_price look like over time?"
   ]
  },
  {
   "cell_type": "code",
   "execution_count": 32,
   "id": "f95c9fb0",
   "metadata": {},
   "outputs": [
    {
     "data": {
      "image/png": "[encoded data removed]",
      "text/plain": [
       "<Figure size 750x375 with 1 Axes>"
      ]
     },
     "metadata": {},
     "output_type": "display_data"
    }
   ],
   "source": [
    "price_over_time = data.groupby('end_date')['avg_price'].sum().reset_index()\n",
    "price_over_time = price_over_time[:-1]\n",
    "\n",
    "plt.figure(figsize=(10, 5))\n",
    "sns.lineplot(x='end_date', y='avg_price', data=price_over_time, marker='o')\n",
    "plt.title('Average Price Over Time')\n",
    "plt.xlabel('Month')\n",
    "plt.ylabel('Average Price')\n",
    "plt.grid(True)\n",
    "plt.xticks(rotation=45) \n",
    "plt.tight_layout()\n",
    "plt.show()"
   ]
  },
  {
   "cell_type": "markdown",
   "id": "4a7c81ba",
   "metadata": {},
   "source": [
    "## Data Preprocessing"
   ]
  },
  {
   "cell_type": "code",
   "execution_count": 33,
   "id": "5e72a416",
   "metadata": {
    "scrolled": true
   },
   "outputs": [],
   "source": [
    "# Drop unique identifiers and date columns\n",
    "data.drop(columns=['cust_id', 'acquisition_date', 'end_date'], inplace=True)\n",
    "\n",
    "# Ordinal encode age_group\n",
    "age_group_mapping = {\n",
    "    '18-24': 0,\n",
    "    '25-34': 1,\n",
    "    '35-44': 2,\n",
    "    '45-54': 3,\n",
    "    '55-65': 4\n",
    "}\n",
    "\n",
    "data['age_group'] = data['age_group'].map(age_group_mapping)"
   ]
  },
  {
   "cell_type": "markdown",
   "id": "5315701f",
   "metadata": {},
   "source": [
    "## Model Training and Evaluation"
   ]
  },
  {
   "cell_type": "code",
   "execution_count": 34,
   "id": "56b2ef1b",
   "metadata": {},
   "outputs": [],
   "source": [
    "# Split the dataset\n",
    "X = data.drop('churn', axis=1)\n",
    "y = data['churn']\n",
    "X_train, X_test, y_train, y_test = train_test_split(X, y, test_size=0.2, random_state=42)"
   ]
  },
  {
   "cell_type": "code",
   "execution_count": 35,
   "id": "69ea8734",
   "metadata": {},
   "outputs": [],
   "source": [
    "# Tranasform categorical and numerical columns\n",
    "categorical_cols = ['customer_gender', 'customer_country', 'referral_type']\n",
    "numerical_cols = ['tenure', 'avg_price', 'age_group']  # 'age_group' is now treated as numerical\n",
    "\n",
    "preprocessor = ColumnTransformer(\n",
    "    transformers=[\n",
    "        ('num', StandardScaler(), numerical_cols),\n",
    "        ('cat', OneHotEncoder(), categorical_cols)\n",
    "    ])"
   ]
  },
  {
   "cell_type": "markdown",
   "id": "0bd8588e",
   "metadata": {},
   "source": [
    "## Model Evaluation"
   ]
  },
  {
   "cell_type": "markdown",
   "id": "d5c39c56",
   "metadata": {
    "id": "7kv26Hz7HC4x"
   },
   "source": [
    "### Model evaluation criterion:"
   ]
  },
  {
   "cell_type": "markdown",
   "id": "c891a9bf",
   "metadata": {
    "id": "OJftFHFAmYOm"
   },
   "source": [
    "Model can make wrong predictions as:\n",
    "1. Predicting a customer will churn and the customer doesn't churn - Loss of resources spent on retention efforts.\n",
    "2. Predicting a customer will not churn and the customer churns - Loss of opportunity to identify customers at risk of churning and intervene with targeted retention efforts.\n",
    "\n",
    "Which case is more important?\n",
    "* Predicting that customer will not churn but customer churns, i.e. losing on a potential source of income for the company because that customer will not be targeted by the marketing team when the customer should be targeted.\n",
    "\n",
    "How to reduce this loss i.e need to reduce false negatives\n",
    "* Company wants **recall** to be maximized, greater the recall lesser the chances of false negatives."
   ]
  },
  {
   "cell_type": "code",
   "execution_count": 36,
   "id": "e57bafd1",
   "metadata": {
    "id": "kxav4KmA5l5i"
   },
   "outputs": [],
   "source": [
    "scorer = metrics.make_scorer(metrics.recall_score)"
   ]
  },
  {
   "cell_type": "code",
   "execution_count": 37,
   "id": "4b064ad5",
   "metadata": {
    "id": "Ud1MryVDHC4z"
   },
   "outputs": [],
   "source": [
    "# Defining a function to compute different metrics\n",
    "def model_performance_classification_sklearn(model, predictors, target):\n",
    "    '''\n",
    "    Function to compute different metrics to check classification model performance\n",
    "\n",
    "    model: classifier\n",
    "    predictors: independent variables\n",
    "    target: dependent variable\n",
    "    '''\n",
    "\n",
    "    # predicting using the independent variables\n",
    "    pred = model.predict(predictors)\n",
    "\n",
    "    acc = accuracy_score(target, pred)  # to compute Accuracy\n",
    "    recall = recall_score(target, pred)  # to compute Recall\n",
    "    precision = precision_score(target, pred)  # to compute Precision\n",
    "    f1 = f1_score(target, pred)  # to compute F1-score\n",
    "\n",
    "    # creating a dataframe of metrics\n",
    "    df_perf = pd.DataFrame(\n",
    "        {\n",
    "            'Accuracy': acc,\n",
    "            'Recall': recall,\n",
    "            'Precision': precision,\n",
    "            'F1': f1,\n",
    "        },\n",
    "        index=[0],\n",
    "    )\n",
    "\n",
    "    return df_perf"
   ]
  },
  {
   "cell_type": "code",
   "execution_count": 38,
   "id": "bc94d96c",
   "metadata": {
    "id": "13etWU9HHC4z"
   },
   "outputs": [],
   "source": [
    "# Defining a function to create confusion matrix\n",
    "def confusion_matrix_sklearn(model, predictors, target):\n",
    "    '''\n",
    "    To plot the confusion_matrix with percentages\n",
    "\n",
    "    model: classifier\n",
    "    predictors: independent variables\n",
    "    target: dependent variable\n",
    "    '''\n",
    "    y_pred = model.predict(predictors)\n",
    "    cm = confusion_matrix(target, y_pred)\n",
    "    labels = np.asarray(\n",
    "        [\n",
    "            ['{0:0.0f}'.format(item) + '\\n{0:.2%}'.format(item / cm.flatten().sum())]\n",
    "            for item in cm.flatten()\n",
    "        ]\n",
    "    ).reshape(2, 2)\n",
    "\n",
    "    plt.figure(figsize=(6, 4))\n",
    "    sns.heatmap(cm, annot=labels, fmt='')\n",
    "    plt.ylabel('True label')\n",
    "    plt.xlabel('Predicted label')"
   ]
  },
  {
   "cell_type": "markdown",
   "id": "00cac396",
   "metadata": {
    "id": "P-V6KTycmted"
   },
   "source": [
    "## Building Initial Models"
   ]
  },
  {
   "cell_type": "code",
   "execution_count": 39,
   "id": "336be466",
   "metadata": {
    "scrolled": false
   },
   "outputs": [
    {
     "name": "stdout",
     "output_type": "stream",
     "text": [
      "\n",
      "Mean CV Recall on training dataset:\n",
      "\n",
      "LR: Mean CV Recall = 0.688 (± 0.032)\n",
      "LDA: Mean CV Recall = 0.161 (± 0.039)\n",
      "SVM: Mean CV Recall = 0.756 (± 0.049)\n",
      "RF: Mean CV Recall = 0.569 (± 0.030)\n",
      "GB: Mean CV Recall = 0.813 (± 0.042)\n"
     ]
    }
   ],
   "source": [
    "models = []   # Empty list to store all the models\n",
    "\n",
    "# Appending models into the list\n",
    "models.append(('LR', LogisticRegression(random_state=42, class_weight='balanced', solver='liblinear')))\n",
    "models.append(('LDA', LinearDiscriminantAnalysis()))\n",
    "models.append(('SVM', SVC(random_state=42, class_weight='balanced')))\n",
    "models.append(('RF', RandomForestClassifier(random_state=42, n_estimators=100, class_weight='balanced')))\n",
    "models.append(('GB', GradientBoostingClassifier(random_state=42)))\n",
    "\n",
    "results = []  # Empty list to store all model's CV scores\n",
    "names = []  # Empty list to store name of the models\n",
    "\n",
    "# loop through all models to get the mean cross validated score\n",
    "print('\\nMean CV Recall on training dataset:' '\\n')\n",
    "\n",
    "# Evaluate using Stratified K-Folds and cross_val_score \n",
    "for name, model in models:\n",
    "    kfold = StratifiedKFold(n_splits=5, random_state=42, shuffle=True)\n",
    "    pipeline = Pipeline(steps=[('preprocessor', preprocessor),\n",
    "                               ('classifier', model)])\n",
    "    cv_result = cross_val_score(pipeline, X_train, y_train, cv=kfold, scoring=scorer) \n",
    "    results.append(cv_result)\n",
    "    names.append(name)\n",
    "    print(f'{name}: Mean CV Recall = {cv_result.mean():.3f} (± {cv_result.std() * 2:.3f})')"
   ]
  },
  {
   "cell_type": "markdown",
   "id": "ebe5c330",
   "metadata": {},
   "source": [
    "* GB has highest recall (81.3%), followed by SVM (75.6%)."
   ]
  },
  {
   "cell_type": "code",
   "execution_count": 40,
   "id": "207be19d",
   "metadata": {
    "scrolled": false
   },
   "outputs": [
    {
     "data": {
      "image/png": "[encoded data removed]",
      "text/plain": [
       "<Figure size 600x375 with 1 Axes>"
      ]
     },
     "metadata": {},
     "output_type": "display_data"
    }
   ],
   "source": [
    "# Plot the results of each model's recall\n",
    "fig = plt.figure(figsize=(8, 5))\n",
    "\n",
    "fig.suptitle('Algorithm Comparison')\n",
    "ax = fig.add_subplot(111)\n",
    "\n",
    "plt.boxplot(results)\n",
    "ax.set_xticklabels(names)\n",
    "\n",
    "plt.show()"
   ]
  },
  {
   "cell_type": "markdown",
   "id": "590087f6",
   "metadata": {},
   "source": [
    "## Hyperparameter Tuning"
   ]
  },
  {
   "cell_type": "code",
   "execution_count": 41,
   "id": "6c94da21",
   "metadata": {},
   "outputs": [
    {
     "name": "stdout",
     "output_type": "stream",
     "text": [
      "Best parameters are {'classifier__n_estimators': 200, 'classifier__learning_rate': 0.2} with CV score=0.9558912386706948:\n"
     ]
    }
   ],
   "source": [
    "# Gradient Boosting using randomized search\n",
    "param_grid_gb = {\n",
    "    'classifier__n_estimators': [100, 200],\n",
    "    'classifier__learning_rate': [0.1, 0.2]\n",
    "}\n",
    "\n",
    "# SVM Pipeline setup\n",
    "gb_pipeline = Pipeline([\n",
    "    ('preprocessor', preprocessor),\n",
    "    ('classifier', GradientBoostingClassifier(random_state=42))\n",
    "])\n",
    "\n",
    "# Setup RandomizedSearchCV with fewer iterations and a limited parameter grid\n",
    "random_search_gb = RandomizedSearchCV(\n",
    "    gb_pipeline,\n",
    "    param_distributions=param_grid_gb,\n",
    "    n_iter=4, \n",
    "    scoring=scorer,\n",
    "    cv=5,\n",
    "    random_state=42,\n",
    "    n_jobs=-1\n",
    ")\n",
    "random_search_gb.fit(X_train, y_train)\n",
    "\n",
    "print('Best parameters are {} with CV score={}:' \n",
    "      .format(random_search_gb.best_params_, random_search_gb.best_score_)\n",
    ")"
   ]
  },
  {
   "cell_type": "code",
   "execution_count": 42,
   "id": "ff490227",
   "metadata": {
    "scrolled": true
   },
   "outputs": [
    {
     "data": {
      "text/html": [
       "<style>#sk-container-id-1 {color: black;}#sk-container-id-1 pre{padding: 0;}#sk-container-id-1 div.sk-toggleable {background-color: white;}#sk-container-id-1 label.sk-toggleable__label {cursor: pointer;display: block;width: 100%;margin-bottom: 0;padding: 0.3em;box-sizing: border-box;text-align: center;}#sk-container-id-1 label.sk-toggleable__label-arrow:before {content: \"▸\";float: left;margin-right: 0.25em;color: #696969;}#sk-container-id-1 label.sk-toggleable__label-arrow:hover:before {color: black;}#sk-container-id-1 div.sk-estimator:hover label.sk-toggleable__label-arrow:before {color: black;}#sk-container-id-1 div.sk-toggleable__content {max-height: 0;max-width: 0;overflow: hidden;text-align: left;background-color: #f0f8ff;}#sk-container-id-1 div.sk-toggleable__content pre {margin: 0.2em;color: black;border-radius: 0.25em;background-color: #f0f8ff;}#sk-container-id-1 input.sk-toggleable__control:checked~div.sk-toggleable__content {max-height: 200px;max-width: 100%;overflow: auto;}#sk-container-id-1 input.sk-toggleable__control:checked~label.sk-toggleable__label-arrow:before {content: \"▾\";}#sk-container-id-1 div.sk-estimator input.sk-toggleable__control:checked~label.sk-toggleable__label {background-color: #d4ebff;}#sk-container-id-1 div.sk-label input.sk-toggleable__control:checked~label.sk-toggleable__label {background-color: #d4ebff;}#sk-container-id-1 input.sk-hidden--visually {border: 0;clip: rect(1px 1px 1px 1px);clip: rect(1px, 1px, 1px, 1px);height: 1px;margin: -1px;overflow: hidden;padding: 0;position: absolute;width: 1px;}#sk-container-id-1 div.sk-estimator {font-family: monospace;background-color: #f0f8ff;border: 1px dotted black;border-radius: 0.25em;box-sizing: border-box;margin-bottom: 0.5em;}#sk-container-id-1 div.sk-estimator:hover {background-color: #d4ebff;}#sk-container-id-1 div.sk-parallel-item::after {content: \"\";width: 100%;border-bottom: 1px solid gray;flex-grow: 1;}#sk-container-id-1 div.sk-label:hover label.sk-toggleable__label {background-color: #d4ebff;}#sk-container-id-1 div.sk-serial::before {content: \"\";position: absolute;border-left: 1px solid gray;box-sizing: border-box;top: 0;bottom: 0;left: 50%;z-index: 0;}#sk-container-id-1 div.sk-serial {display: flex;flex-direction: column;align-items: center;background-color: white;padding-right: 0.2em;padding-left: 0.2em;position: relative;}#sk-container-id-1 div.sk-item {position: relative;z-index: 1;}#sk-container-id-1 div.sk-parallel {display: flex;align-items: stretch;justify-content: center;background-color: white;position: relative;}#sk-container-id-1 div.sk-item::before, #sk-container-id-1 div.sk-parallel-item::before {content: \"\";position: absolute;border-left: 1px solid gray;box-sizing: border-box;top: 0;bottom: 0;left: 50%;z-index: -1;}#sk-container-id-1 div.sk-parallel-item {display: flex;flex-direction: column;z-index: 1;position: relative;background-color: white;}#sk-container-id-1 div.sk-parallel-item:first-child::after {align-self: flex-end;width: 50%;}#sk-container-id-1 div.sk-parallel-item:last-child::after {align-self: flex-start;width: 50%;}#sk-container-id-1 div.sk-parallel-item:only-child::after {width: 0;}#sk-container-id-1 div.sk-dashed-wrapped {border: 1px dashed gray;margin: 0 0.4em 0.5em 0.4em;box-sizing: border-box;padding-bottom: 0.4em;background-color: white;}#sk-container-id-1 div.sk-label label {font-family: monospace;font-weight: bold;display: inline-block;line-height: 1.2em;}#sk-container-id-1 div.sk-label-container {text-align: center;}#sk-container-id-1 div.sk-container {/* jupyter's `normalize.less` sets `[hidden] { display: none; }` but bootstrap.min.css set `[hidden] { display: none !important; }` so we also need the `!important` here to be able to override the default hidden behavior on the sphinx rendered scikit-learn.org. See: https://github.com/scikit-learn/scikit-learn/issues/21755 */display: inline-block !important;position: relative;}#sk-container-id-1 div.sk-text-repr-fallback {display: none;}</style><div id=\"sk-container-id-1\" class=\"sk-top-container\"><div class=\"sk-text-repr-fallback\"><pre>Pipeline(steps=[(&#x27;preprocessor&#x27;,\n",
       "                 ColumnTransformer(transformers=[(&#x27;num&#x27;, StandardScaler(),\n",
       "                                                  [&#x27;tenure&#x27;, &#x27;avg_price&#x27;,\n",
       "                                                   &#x27;age_group&#x27;]),\n",
       "                                                 (&#x27;cat&#x27;, OneHotEncoder(),\n",
       "                                                  [&#x27;customer_gender&#x27;,\n",
       "                                                   &#x27;customer_country&#x27;,\n",
       "                                                   &#x27;referral_type&#x27;])])),\n",
       "                (&#x27;classifier&#x27;,\n",
       "                 GradientBoostingClassifier(learning_rate=0.2, n_estimators=200,\n",
       "                                            random_state=42))])</pre><b>In a Jupyter environment, please rerun this cell to show the HTML representation or trust the notebook. <br />On GitHub, the HTML representation is unable to render, please try loading this page with nbviewer.org.</b></div><div class=\"sk-container\" hidden><div class=\"sk-item sk-dashed-wrapped\"><div class=\"sk-label-container\"><div class=\"sk-label sk-toggleable\"><input class=\"sk-toggleable__control sk-hidden--visually\" id=\"sk-estimator-id-1\" type=\"checkbox\" ><label for=\"sk-estimator-id-1\" class=\"sk-toggleable__label sk-toggleable__label-arrow\">Pipeline</label><div class=\"sk-toggleable__content\"><pre>Pipeline(steps=[(&#x27;preprocessor&#x27;,\n",
       "                 ColumnTransformer(transformers=[(&#x27;num&#x27;, StandardScaler(),\n",
       "                                                  [&#x27;tenure&#x27;, &#x27;avg_price&#x27;,\n",
       "                                                   &#x27;age_group&#x27;]),\n",
       "                                                 (&#x27;cat&#x27;, OneHotEncoder(),\n",
       "                                                  [&#x27;customer_gender&#x27;,\n",
       "                                                   &#x27;customer_country&#x27;,\n",
       "                                                   &#x27;referral_type&#x27;])])),\n",
       "                (&#x27;classifier&#x27;,\n",
       "                 GradientBoostingClassifier(learning_rate=0.2, n_estimators=200,\n",
       "                                            random_state=42))])</pre></div></div></div><div class=\"sk-serial\"><div class=\"sk-item sk-dashed-wrapped\"><div class=\"sk-label-container\"><div class=\"sk-label sk-toggleable\"><input class=\"sk-toggleable__control sk-hidden--visually\" id=\"sk-estimator-id-2\" type=\"checkbox\" ><label for=\"sk-estimator-id-2\" class=\"sk-toggleable__label sk-toggleable__label-arrow\">preprocessor: ColumnTransformer</label><div class=\"sk-toggleable__content\"><pre>ColumnTransformer(transformers=[(&#x27;num&#x27;, StandardScaler(),\n",
       "                                 [&#x27;tenure&#x27;, &#x27;avg_price&#x27;, &#x27;age_group&#x27;]),\n",
       "                                (&#x27;cat&#x27;, OneHotEncoder(),\n",
       "                                 [&#x27;customer_gender&#x27;, &#x27;customer_country&#x27;,\n",
       "                                  &#x27;referral_type&#x27;])])</pre></div></div></div><div class=\"sk-parallel\"><div class=\"sk-parallel-item\"><div class=\"sk-item\"><div class=\"sk-label-container\"><div class=\"sk-label sk-toggleable\"><input class=\"sk-toggleable__control sk-hidden--visually\" id=\"sk-estimator-id-3\" type=\"checkbox\" ><label for=\"sk-estimator-id-3\" class=\"sk-toggleable__label sk-toggleable__label-arrow\">num</label><div class=\"sk-toggleable__content\"><pre>[&#x27;tenure&#x27;, &#x27;avg_price&#x27;, &#x27;age_group&#x27;]</pre></div></div></div><div class=\"sk-serial\"><div class=\"sk-item\"><div class=\"sk-estimator sk-toggleable\"><input class=\"sk-toggleable__control sk-hidden--visually\" id=\"sk-estimator-id-4\" type=\"checkbox\" ><label for=\"sk-estimator-id-4\" class=\"sk-toggleable__label sk-toggleable__label-arrow\">StandardScaler</label><div class=\"sk-toggleable__content\"><pre>StandardScaler()</pre></div></div></div></div></div></div><div class=\"sk-parallel-item\"><div class=\"sk-item\"><div class=\"sk-label-container\"><div class=\"sk-label sk-toggleable\"><input class=\"sk-toggleable__control sk-hidden--visually\" id=\"sk-estimator-id-5\" type=\"checkbox\" ><label for=\"sk-estimator-id-5\" class=\"sk-toggleable__label sk-toggleable__label-arrow\">cat</label><div class=\"sk-toggleable__content\"><pre>[&#x27;customer_gender&#x27;, &#x27;customer_country&#x27;, &#x27;referral_type&#x27;]</pre></div></div></div><div class=\"sk-serial\"><div class=\"sk-item\"><div class=\"sk-estimator sk-toggleable\"><input class=\"sk-toggleable__control sk-hidden--visually\" id=\"sk-estimator-id-6\" type=\"checkbox\" ><label for=\"sk-estimator-id-6\" class=\"sk-toggleable__label sk-toggleable__label-arrow\">OneHotEncoder</label><div class=\"sk-toggleable__content\"><pre>OneHotEncoder()</pre></div></div></div></div></div></div></div></div><div class=\"sk-item\"><div class=\"sk-estimator sk-toggleable\"><input class=\"sk-toggleable__control sk-hidden--visually\" id=\"sk-estimator-id-7\" type=\"checkbox\" ><label for=\"sk-estimator-id-7\" class=\"sk-toggleable__label sk-toggleable__label-arrow\">GradientBoostingClassifier</label><div class=\"sk-toggleable__content\"><pre>GradientBoostingClassifier(learning_rate=0.2, n_estimators=200, random_state=42)</pre></div></div></div></div></div></div></div>"
      ],
      "text/plain": [
       "Pipeline(steps=[('preprocessor',\n",
       "                 ColumnTransformer(transformers=[('num', StandardScaler(),\n",
       "                                                  ['tenure', 'avg_price',\n",
       "                                                   'age_group']),\n",
       "                                                 ('cat', OneHotEncoder(),\n",
       "                                                  ['customer_gender',\n",
       "                                                   'customer_country',\n",
       "                                                   'referral_type'])])),\n",
       "                ('classifier',\n",
       "                 GradientBoostingClassifier(learning_rate=0.2, n_estimators=200,\n",
       "                                            random_state=42))])"
      ]
     },
     "execution_count": 42,
     "metadata": {},
     "output_type": "execute_result"
    }
   ],
   "source": [
    "# Tune GB model\n",
    "gb_tuned = Pipeline([\n",
    "    ('preprocessor', preprocessor),\n",
    "    ('classifier', GradientBoostingClassifier(n_estimators=200, learning_rate=0.2, random_state=42))\n",
    "])\n",
    "\n",
    "gb_tuned.fit(X_train, y_train)"
   ]
  },
  {
   "cell_type": "code",
   "execution_count": 43,
   "id": "9f09641a",
   "metadata": {
    "scrolled": true
   },
   "outputs": [
    {
     "name": "stdout",
     "output_type": "stream",
     "text": [
      "Training performance:\n"
     ]
    },
    {
     "data": {
      "text/html": [
       "<div>\n",
       "<style scoped>\n",
       "    .dataframe tbody tr th:only-of-type {\n",
       "        vertical-align: middle;\n",
       "    }\n",
       "\n",
       "    .dataframe tbody tr th {\n",
       "        vertical-align: top;\n",
       "    }\n",
       "\n",
       "    .dataframe thead th {\n",
       "        text-align: right;\n",
       "    }\n",
       "</style>\n",
       "<table border=\"1\" class=\"dataframe\">\n",
       "  <thead>\n",
       "    <tr style=\"text-align: right;\">\n",
       "      <th></th>\n",
       "      <th>Accuracy</th>\n",
       "      <th>Recall</th>\n",
       "      <th>Precision</th>\n",
       "      <th>F1</th>\n",
       "    </tr>\n",
       "  </thead>\n",
       "  <tbody>\n",
       "    <tr>\n",
       "      <th>0</th>\n",
       "      <td>0.99</td>\n",
       "      <td>0.97</td>\n",
       "      <td>1.00</td>\n",
       "      <td>0.98</td>\n",
       "    </tr>\n",
       "  </tbody>\n",
       "</table>\n",
       "</div>"
      ],
      "text/plain": [
       "   Accuracy  Recall  Precision   F1\n",
       "0      0.99    0.97       1.00 0.98"
      ]
     },
     "execution_count": 43,
     "metadata": {},
     "output_type": "execute_result"
    }
   ],
   "source": [
    "# Calculate accuracy, recall, precision, and F1-score on the train set\n",
    "gb_random_train = model_performance_classification_sklearn(\n",
    "    gb_tuned, X_train, y_train\n",
    ")\n",
    "print('Training performance:')\n",
    "gb_random_train"
   ]
  },
  {
   "cell_type": "markdown",
   "id": "f2ca9a52",
   "metadata": {},
   "source": [
    "* Recall increased to 97% from 81%.\n",
    "* Accuracy, precision, and F1-score are also very high."
   ]
  },
  {
   "cell_type": "code",
   "execution_count": 44,
   "id": "dd13545c",
   "metadata": {},
   "outputs": [
    {
     "name": "stdout",
     "output_type": "stream",
     "text": [
      "Recall Scores per Fold:  [0.97885196 0.92145015 0.93957704 0.96072508 0.95770393]\n",
      "Average Recall: 0.95\n",
      "Recall Standard Deviation: 0.02\n"
     ]
    }
   ],
   "source": [
    "# Gradient Boosting pipeline configured with the best parameters\n",
    "final_gb_model = Pipeline([\n",
    "    ('preprocessor', preprocessor), \n",
    "    ('classifier', GradientBoostingClassifier(n_estimators=200, learning_rate=0.2, random_state=42))\n",
    "])\n",
    "\n",
    "# Using StratifiedKFold for cross-validation to handle class imbalance\n",
    "kfold = StratifiedKFold(n_splits=5, shuffle=True, random_state=42)\n",
    "\n",
    "# Conduct cross-validation\n",
    "cv_scores = cross_val_score(final_gb_model, X_train, y_train, cv=kfold, scoring=scorer)\n",
    "\n",
    "# Output the results\n",
    "print('Recall Scores per Fold: ', cv_scores)\n",
    "print('Average Recall: {:.2f}'.format(cv_scores.mean()))\n",
    "print('Recall Standard Deviation: {:.2f}'.format(cv_scores.std()))"
   ]
  },
  {
   "cell_type": "markdown",
   "id": "9728de8a",
   "metadata": {},
   "source": [
    "* The average recall of 0.95 and standard deviation of 0.02 across five folds suggests that the model is generalizing well. "
   ]
  },
  {
   "cell_type": "code",
   "execution_count": 45,
   "id": "b4979cd8",
   "metadata": {},
   "outputs": [
    {
     "name": "stdout",
     "output_type": "stream",
     "text": [
      "Test performance:\n"
     ]
    },
    {
     "data": {
      "text/html": [
       "<div>\n",
       "<style scoped>\n",
       "    .dataframe tbody tr th:only-of-type {\n",
       "        vertical-align: middle;\n",
       "    }\n",
       "\n",
       "    .dataframe tbody tr th {\n",
       "        vertical-align: top;\n",
       "    }\n",
       "\n",
       "    .dataframe thead th {\n",
       "        text-align: right;\n",
       "    }\n",
       "</style>\n",
       "<table border=\"1\" class=\"dataframe\">\n",
       "  <thead>\n",
       "    <tr style=\"text-align: right;\">\n",
       "      <th></th>\n",
       "      <th>Accuracy</th>\n",
       "      <th>Recall</th>\n",
       "      <th>Precision</th>\n",
       "      <th>F1</th>\n",
       "    </tr>\n",
       "  </thead>\n",
       "  <tbody>\n",
       "    <tr>\n",
       "      <th>0</th>\n",
       "      <td>0.99</td>\n",
       "      <td>0.96</td>\n",
       "      <td>1.00</td>\n",
       "      <td>0.98</td>\n",
       "    </tr>\n",
       "  </tbody>\n",
       "</table>\n",
       "</div>"
      ],
      "text/plain": [
       "   Accuracy  Recall  Precision   F1\n",
       "0      0.99    0.96       1.00 0.98"
      ]
     },
     "execution_count": 45,
     "metadata": {},
     "output_type": "execute_result"
    }
   ],
   "source": [
    "# Calculate accuracy, recall, precision, and F1-score on the test set\n",
    "gb_random_test = model_performance_classification_sklearn(gb_tuned, X_test, y_test)\n",
    "print('Test performance:')\n",
    "gb_random_test"
   ]
  },
  {
   "cell_type": "code",
   "execution_count": 46,
   "id": "d2bd9edd",
   "metadata": {},
   "outputs": [
    {
     "data": {
      "image/png": "[encoded data removed]",
      "text/plain": [
       "<Figure size 450x300 with 2 Axes>"
      ]
     },
     "metadata": {},
     "output_type": "display_data"
    }
   ],
   "source": [
    "confusion_matrix_sklearn(gb_tuned, X_test, y_test)"
   ]
  },
  {
   "cell_type": "markdown",
   "id": "e9292914",
   "metadata": {},
   "source": [
    "* Gradient Boosting is performing well in all metrics on training and test sets. It is generalizing well, as the tuned model on testing data is only 1% lower in recall compared to the tuned model on training data."
   ]
  },
  {
   "cell_type": "code",
   "execution_count": 47,
   "id": "4e028551",
   "metadata": {},
   "outputs": [
    {
     "name": "stdout",
     "output_type": "stream",
     "text": [
      "Best parameters are {'classifier__kernel': 'rbf', 'classifier__C': 1} with CV score=0.7601208459214501:\n"
     ]
    }
   ],
   "source": [
    "# SVM using randomized search\n",
    "param_grid_svm = {\n",
    "    'classifier__C': [0.1, 1, 10],\n",
    "    'classifier__kernel': ['linear', 'rbf']\n",
    "}\n",
    "\n",
    "svm_pipeline = Pipeline([\n",
    "    ('preprocessor', preprocessor),\n",
    "    ('classifier', SVC(random_state=42, class_weight='balanced'))\n",
    "])\n",
    "\n",
    "random_search_svm = RandomizedSearchCV(\n",
    "    svm_pipeline,\n",
    "    param_distributions=param_grid_svm,\n",
    "    n_iter=6,  # Reduced number of iterations\n",
    "    scoring=scorer,\n",
    "    cv=5,\n",
    "    random_state=42,\n",
    "    n_jobs=-1\n",
    ")\n",
    "\n",
    "random_search_svm.fit(X_train, y_train)\n",
    "\n",
    "print('Best parameters are {} with CV score={}:' \n",
    "      .format(random_search_svm.best_params_, random_search_svm.best_score_)\n",
    ")"
   ]
  },
  {
   "cell_type": "code",
   "execution_count": 48,
   "id": "d0fe32bb",
   "metadata": {
    "scrolled": false
   },
   "outputs": [
    {
     "data": {
      "text/html": [
       "<style>#sk-container-id-2 {color: black;}#sk-container-id-2 pre{padding: 0;}#sk-container-id-2 div.sk-toggleable {background-color: white;}#sk-container-id-2 label.sk-toggleable__label {cursor: pointer;display: block;width: 100%;margin-bottom: 0;padding: 0.3em;box-sizing: border-box;text-align: center;}#sk-container-id-2 label.sk-toggleable__label-arrow:before {content: \"▸\";float: left;margin-right: 0.25em;color: #696969;}#sk-container-id-2 label.sk-toggleable__label-arrow:hover:before {color: black;}#sk-container-id-2 div.sk-estimator:hover label.sk-toggleable__label-arrow:before {color: black;}#sk-container-id-2 div.sk-toggleable__content {max-height: 0;max-width: 0;overflow: hidden;text-align: left;background-color: #f0f8ff;}#sk-container-id-2 div.sk-toggleable__content pre {margin: 0.2em;color: black;border-radius: 0.25em;background-color: #f0f8ff;}#sk-container-id-2 input.sk-toggleable__control:checked~div.sk-toggleable__content {max-height: 200px;max-width: 100%;overflow: auto;}#sk-container-id-2 input.sk-toggleable__control:checked~label.sk-toggleable__label-arrow:before {content: \"▾\";}#sk-container-id-2 div.sk-estimator input.sk-toggleable__control:checked~label.sk-toggleable__label {background-color: #d4ebff;}#sk-container-id-2 div.sk-label input.sk-toggleable__control:checked~label.sk-toggleable__label {background-color: #d4ebff;}#sk-container-id-2 input.sk-hidden--visually {border: 0;clip: rect(1px 1px 1px 1px);clip: rect(1px, 1px, 1px, 1px);height: 1px;margin: -1px;overflow: hidden;padding: 0;position: absolute;width: 1px;}#sk-container-id-2 div.sk-estimator {font-family: monospace;background-color: #f0f8ff;border: 1px dotted black;border-radius: 0.25em;box-sizing: border-box;margin-bottom: 0.5em;}#sk-container-id-2 div.sk-estimator:hover {background-color: #d4ebff;}#sk-container-id-2 div.sk-parallel-item::after {content: \"\";width: 100%;border-bottom: 1px solid gray;flex-grow: 1;}#sk-container-id-2 div.sk-label:hover label.sk-toggleable__label {background-color: #d4ebff;}#sk-container-id-2 div.sk-serial::before {content: \"\";position: absolute;border-left: 1px solid gray;box-sizing: border-box;top: 0;bottom: 0;left: 50%;z-index: 0;}#sk-container-id-2 div.sk-serial {display: flex;flex-direction: column;align-items: center;background-color: white;padding-right: 0.2em;padding-left: 0.2em;position: relative;}#sk-container-id-2 div.sk-item {position: relative;z-index: 1;}#sk-container-id-2 div.sk-parallel {display: flex;align-items: stretch;justify-content: center;background-color: white;position: relative;}#sk-container-id-2 div.sk-item::before, #sk-container-id-2 div.sk-parallel-item::before {content: \"\";position: absolute;border-left: 1px solid gray;box-sizing: border-box;top: 0;bottom: 0;left: 50%;z-index: -1;}#sk-container-id-2 div.sk-parallel-item {display: flex;flex-direction: column;z-index: 1;position: relative;background-color: white;}#sk-container-id-2 div.sk-parallel-item:first-child::after {align-self: flex-end;width: 50%;}#sk-container-id-2 div.sk-parallel-item:last-child::after {align-self: flex-start;width: 50%;}#sk-container-id-2 div.sk-parallel-item:only-child::after {width: 0;}#sk-container-id-2 div.sk-dashed-wrapped {border: 1px dashed gray;margin: 0 0.4em 0.5em 0.4em;box-sizing: border-box;padding-bottom: 0.4em;background-color: white;}#sk-container-id-2 div.sk-label label {font-family: monospace;font-weight: bold;display: inline-block;line-height: 1.2em;}#sk-container-id-2 div.sk-label-container {text-align: center;}#sk-container-id-2 div.sk-container {/* jupyter's `normalize.less` sets `[hidden] { display: none; }` but bootstrap.min.css set `[hidden] { display: none !important; }` so we also need the `!important` here to be able to override the default hidden behavior on the sphinx rendered scikit-learn.org. See: https://github.com/scikit-learn/scikit-learn/issues/21755 */display: inline-block !important;position: relative;}#sk-container-id-2 div.sk-text-repr-fallback {display: none;}</style><div id=\"sk-container-id-2\" class=\"sk-top-container\"><div class=\"sk-text-repr-fallback\"><pre>Pipeline(steps=[(&#x27;preprocessor&#x27;,\n",
       "                 ColumnTransformer(transformers=[(&#x27;num&#x27;, StandardScaler(),\n",
       "                                                  [&#x27;tenure&#x27;, &#x27;avg_price&#x27;,\n",
       "                                                   &#x27;age_group&#x27;]),\n",
       "                                                 (&#x27;cat&#x27;, OneHotEncoder(),\n",
       "                                                  [&#x27;customer_gender&#x27;,\n",
       "                                                   &#x27;customer_country&#x27;,\n",
       "                                                   &#x27;referral_type&#x27;])])),\n",
       "                (&#x27;classifier&#x27;,\n",
       "                 SVC(C=1, class_weight=&#x27;balanced&#x27;, random_state=42))])</pre><b>In a Jupyter environment, please rerun this cell to show the HTML representation or trust the notebook. <br />On GitHub, the HTML representation is unable to render, please try loading this page with nbviewer.org.</b></div><div class=\"sk-container\" hidden><div class=\"sk-item sk-dashed-wrapped\"><div class=\"sk-label-container\"><div class=\"sk-label sk-toggleable\"><input class=\"sk-toggleable__control sk-hidden--visually\" id=\"sk-estimator-id-8\" type=\"checkbox\" ><label for=\"sk-estimator-id-8\" class=\"sk-toggleable__label sk-toggleable__label-arrow\">Pipeline</label><div class=\"sk-toggleable__content\"><pre>Pipeline(steps=[(&#x27;preprocessor&#x27;,\n",
       "                 ColumnTransformer(transformers=[(&#x27;num&#x27;, StandardScaler(),\n",
       "                                                  [&#x27;tenure&#x27;, &#x27;avg_price&#x27;,\n",
       "                                                   &#x27;age_group&#x27;]),\n",
       "                                                 (&#x27;cat&#x27;, OneHotEncoder(),\n",
       "                                                  [&#x27;customer_gender&#x27;,\n",
       "                                                   &#x27;customer_country&#x27;,\n",
       "                                                   &#x27;referral_type&#x27;])])),\n",
       "                (&#x27;classifier&#x27;,\n",
       "                 SVC(C=1, class_weight=&#x27;balanced&#x27;, random_state=42))])</pre></div></div></div><div class=\"sk-serial\"><div class=\"sk-item sk-dashed-wrapped\"><div class=\"sk-label-container\"><div class=\"sk-label sk-toggleable\"><input class=\"sk-toggleable__control sk-hidden--visually\" id=\"sk-estimator-id-9\" type=\"checkbox\" ><label for=\"sk-estimator-id-9\" class=\"sk-toggleable__label sk-toggleable__label-arrow\">preprocessor: ColumnTransformer</label><div class=\"sk-toggleable__content\"><pre>ColumnTransformer(transformers=[(&#x27;num&#x27;, StandardScaler(),\n",
       "                                 [&#x27;tenure&#x27;, &#x27;avg_price&#x27;, &#x27;age_group&#x27;]),\n",
       "                                (&#x27;cat&#x27;, OneHotEncoder(),\n",
       "                                 [&#x27;customer_gender&#x27;, &#x27;customer_country&#x27;,\n",
       "                                  &#x27;referral_type&#x27;])])</pre></div></div></div><div class=\"sk-parallel\"><div class=\"sk-parallel-item\"><div class=\"sk-item\"><div class=\"sk-label-container\"><div class=\"sk-label sk-toggleable\"><input class=\"sk-toggleable__control sk-hidden--visually\" id=\"sk-estimator-id-10\" type=\"checkbox\" ><label for=\"sk-estimator-id-10\" class=\"sk-toggleable__label sk-toggleable__label-arrow\">num</label><div class=\"sk-toggleable__content\"><pre>[&#x27;tenure&#x27;, &#x27;avg_price&#x27;, &#x27;age_group&#x27;]</pre></div></div></div><div class=\"sk-serial\"><div class=\"sk-item\"><div class=\"sk-estimator sk-toggleable\"><input class=\"sk-toggleable__control sk-hidden--visually\" id=\"sk-estimator-id-11\" type=\"checkbox\" ><label for=\"sk-estimator-id-11\" class=\"sk-toggleable__label sk-toggleable__label-arrow\">StandardScaler</label><div class=\"sk-toggleable__content\"><pre>StandardScaler()</pre></div></div></div></div></div></div><div class=\"sk-parallel-item\"><div class=\"sk-item\"><div class=\"sk-label-container\"><div class=\"sk-label sk-toggleable\"><input class=\"sk-toggleable__control sk-hidden--visually\" id=\"sk-estimator-id-12\" type=\"checkbox\" ><label for=\"sk-estimator-id-12\" class=\"sk-toggleable__label sk-toggleable__label-arrow\">cat</label><div class=\"sk-toggleable__content\"><pre>[&#x27;customer_gender&#x27;, &#x27;customer_country&#x27;, &#x27;referral_type&#x27;]</pre></div></div></div><div class=\"sk-serial\"><div class=\"sk-item\"><div class=\"sk-estimator sk-toggleable\"><input class=\"sk-toggleable__control sk-hidden--visually\" id=\"sk-estimator-id-13\" type=\"checkbox\" ><label for=\"sk-estimator-id-13\" class=\"sk-toggleable__label sk-toggleable__label-arrow\">OneHotEncoder</label><div class=\"sk-toggleable__content\"><pre>OneHotEncoder()</pre></div></div></div></div></div></div></div></div><div class=\"sk-item\"><div class=\"sk-estimator sk-toggleable\"><input class=\"sk-toggleable__control sk-hidden--visually\" id=\"sk-estimator-id-14\" type=\"checkbox\" ><label for=\"sk-estimator-id-14\" class=\"sk-toggleable__label sk-toggleable__label-arrow\">SVC</label><div class=\"sk-toggleable__content\"><pre>SVC(C=1, class_weight=&#x27;balanced&#x27;, random_state=42)</pre></div></div></div></div></div></div></div>"
      ],
      "text/plain": [
       "Pipeline(steps=[('preprocessor',\n",
       "                 ColumnTransformer(transformers=[('num', StandardScaler(),\n",
       "                                                  ['tenure', 'avg_price',\n",
       "                                                   'age_group']),\n",
       "                                                 ('cat', OneHotEncoder(),\n",
       "                                                  ['customer_gender',\n",
       "                                                   'customer_country',\n",
       "                                                   'referral_type'])])),\n",
       "                ('classifier',\n",
       "                 SVC(C=1, class_weight='balanced', random_state=42))])"
      ]
     },
     "execution_count": 48,
     "metadata": {},
     "output_type": "execute_result"
    }
   ],
   "source": [
    "# Tune SVM model \n",
    "svm_tuned = Pipeline([\n",
    "    ('preprocessor', preprocessor),\n",
    "    ('classifier', SVC(kernel='rbf', C=1, class_weight='balanced', random_state=42))\n",
    "])\n",
    "\n",
    "svm_tuned.fit(X_train, y_train)"
   ]
  },
  {
   "cell_type": "code",
   "execution_count": 49,
   "id": "011c31f6",
   "metadata": {},
   "outputs": [
    {
     "name": "stdout",
     "output_type": "stream",
     "text": [
      "Training performance:\n"
     ]
    },
    {
     "data": {
      "text/html": [
       "<div>\n",
       "<style scoped>\n",
       "    .dataframe tbody tr th:only-of-type {\n",
       "        vertical-align: middle;\n",
       "    }\n",
       "\n",
       "    .dataframe tbody tr th {\n",
       "        vertical-align: top;\n",
       "    }\n",
       "\n",
       "    .dataframe thead th {\n",
       "        text-align: right;\n",
       "    }\n",
       "</style>\n",
       "<table border=\"1\" class=\"dataframe\">\n",
       "  <thead>\n",
       "    <tr style=\"text-align: right;\">\n",
       "      <th></th>\n",
       "      <th>Accuracy</th>\n",
       "      <th>Recall</th>\n",
       "      <th>Precision</th>\n",
       "      <th>F1</th>\n",
       "    </tr>\n",
       "  </thead>\n",
       "  <tbody>\n",
       "    <tr>\n",
       "      <th>0</th>\n",
       "      <td>0.75</td>\n",
       "      <td>0.82</td>\n",
       "      <td>0.43</td>\n",
       "      <td>0.56</td>\n",
       "    </tr>\n",
       "  </tbody>\n",
       "</table>\n",
       "</div>"
      ],
      "text/plain": [
       "   Accuracy  Recall  Precision   F1\n",
       "0      0.75    0.82       0.43 0.56"
      ]
     },
     "execution_count": 49,
     "metadata": {},
     "output_type": "execute_result"
    }
   ],
   "source": [
    "# Calculate accuracy, recall, precision, and F1-score on the train set\n",
    "svm_random_train = model_performance_classification_sklearn(\n",
    "    svm_tuned, X_train, y_train\n",
    ")\n",
    "print('Training performance:')\n",
    "svm_random_train"
   ]
  },
  {
   "cell_type": "code",
   "execution_count": 50,
   "id": "b43ef503",
   "metadata": {},
   "outputs": [
    {
     "name": "stdout",
     "output_type": "stream",
     "text": [
      "Recall Scores per Fold:  [0.74924471 0.79758308 0.7673716  0.73413897 0.73111782]\n",
      "Average Recall: 0.76\n",
      "Recall Standard Deviation: 0.02\n"
     ]
    }
   ],
   "source": [
    "# SVM pipeline configured with the best parameters\n",
    "final_svm_model = Pipeline([\n",
    "    ('preprocessor', preprocessor),\n",
    "    ('classifier', SVC(kernel='rbf', C=1, class_weight='balanced', random_state=42))\n",
    "])\n",
    "\n",
    "kfold = StratifiedKFold(n_splits=5, shuffle=True, random_state=42)\n",
    "\n",
    "cv_scores = cross_val_score(final_svm_model, X_train, y_train, cv=kfold, scoring=scorer)\n",
    "\n",
    "print('Recall Scores per Fold: ', cv_scores)\n",
    "print('Average Recall: {:.2f}'.format(cv_scores.mean()))\n",
    "print('Recall Standard Deviation: {:.2f}'.format(cv_scores.std()))"
   ]
  },
  {
   "cell_type": "code",
   "execution_count": 51,
   "id": "5b0315c1",
   "metadata": {},
   "outputs": [
    {
     "name": "stdout",
     "output_type": "stream",
     "text": [
      "Test performance:\n"
     ]
    },
    {
     "data": {
      "text/html": [
       "<div>\n",
       "<style scoped>\n",
       "    .dataframe tbody tr th:only-of-type {\n",
       "        vertical-align: middle;\n",
       "    }\n",
       "\n",
       "    .dataframe tbody tr th {\n",
       "        vertical-align: top;\n",
       "    }\n",
       "\n",
       "    .dataframe thead th {\n",
       "        text-align: right;\n",
       "    }\n",
       "</style>\n",
       "<table border=\"1\" class=\"dataframe\">\n",
       "  <thead>\n",
       "    <tr style=\"text-align: right;\">\n",
       "      <th></th>\n",
       "      <th>Accuracy</th>\n",
       "      <th>Recall</th>\n",
       "      <th>Precision</th>\n",
       "      <th>F1</th>\n",
       "    </tr>\n",
       "  </thead>\n",
       "  <tbody>\n",
       "    <tr>\n",
       "      <th>0</th>\n",
       "      <td>0.72</td>\n",
       "      <td>0.73</td>\n",
       "      <td>0.38</td>\n",
       "      <td>0.50</td>\n",
       "    </tr>\n",
       "  </tbody>\n",
       "</table>\n",
       "</div>"
      ],
      "text/plain": [
       "   Accuracy  Recall  Precision   F1\n",
       "0      0.72    0.73       0.38 0.50"
      ]
     },
     "execution_count": 51,
     "metadata": {},
     "output_type": "execute_result"
    }
   ],
   "source": [
    "# Calculate accuracy, recall, precision, and F1-score on the test set\n",
    "svm_random_test = model_performance_classification_sklearn(svm_tuned, X_test, y_test)\n",
    "print('Test performance:')\n",
    "svm_random_test"
   ]
  },
  {
   "cell_type": "code",
   "execution_count": 52,
   "id": "17c805af",
   "metadata": {},
   "outputs": [
    {
     "data": {
      "image/png": "[encoded data removed]",
      "text/plain": [
       "<Figure size 450x300 with 2 Axes>"
      ]
     },
     "metadata": {},
     "output_type": "display_data"
    }
   ],
   "source": [
    "confusion_matrix_sklearn(svm_tuned, X_test, y_test)"
   ]
  },
  {
   "cell_type": "markdown",
   "id": "465c5875",
   "metadata": {},
   "source": [
    "* SVM is overfitting on training data, although not by a huge margin, with recall 0.82 vs testing data 0.73. Performance across all metrics is lower than Gradient Boosting."
   ]
  },
  {
   "cell_type": "markdown",
   "id": "0cbcba93",
   "metadata": {
    "id": "9LF2wnmVHC47"
   },
   "source": [
    "## Model Performance Comparison and Final Model Selection"
   ]
  },
  {
   "cell_type": "code",
   "execution_count": 53,
   "id": "70d6f576",
   "metadata": {
    "colab": {
     "base_uri": "https://localhost:8080/",
     "height": 254
    },
    "id": "8C_tKZvW0Co7",
    "outputId": "dd3fe315-ddcc-4238-a656-df3c43534345"
   },
   "outputs": [
    {
     "name": "stdout",
     "output_type": "stream",
     "text": [
      "Training performance comparison:\n"
     ]
    },
    {
     "data": {
      "text/html": [
       "<div>\n",
       "<style scoped>\n",
       "    .dataframe tbody tr th:only-of-type {\n",
       "        vertical-align: middle;\n",
       "    }\n",
       "\n",
       "    .dataframe tbody tr th {\n",
       "        vertical-align: top;\n",
       "    }\n",
       "\n",
       "    .dataframe thead th {\n",
       "        text-align: right;\n",
       "    }\n",
       "</style>\n",
       "<table border=\"1\" class=\"dataframe\">\n",
       "  <thead>\n",
       "    <tr style=\"text-align: right;\">\n",
       "      <th></th>\n",
       "      <th>Gradient Boosting tuned with random search</th>\n",
       "      <th>SVM tuned with random search</th>\n",
       "    </tr>\n",
       "  </thead>\n",
       "  <tbody>\n",
       "    <tr>\n",
       "      <th>Accuracy</th>\n",
       "      <td>0.99</td>\n",
       "      <td>0.75</td>\n",
       "    </tr>\n",
       "    <tr>\n",
       "      <th>Recall</th>\n",
       "      <td>0.97</td>\n",
       "      <td>0.82</td>\n",
       "    </tr>\n",
       "    <tr>\n",
       "      <th>Precision</th>\n",
       "      <td>1.00</td>\n",
       "      <td>0.43</td>\n",
       "    </tr>\n",
       "    <tr>\n",
       "      <th>F1</th>\n",
       "      <td>0.98</td>\n",
       "      <td>0.56</td>\n",
       "    </tr>\n",
       "  </tbody>\n",
       "</table>\n",
       "</div>"
      ],
      "text/plain": [
       "           Gradient Boosting tuned with random search  \\\n",
       "Accuracy                                         0.99   \n",
       "Recall                                           0.97   \n",
       "Precision                                        1.00   \n",
       "F1                                               0.98   \n",
       "\n",
       "           SVM tuned with random search  \n",
       "Accuracy                           0.75  \n",
       "Recall                             0.82  \n",
       "Precision                          0.43  \n",
       "F1                                 0.56  "
      ]
     },
     "execution_count": 53,
     "metadata": {},
     "output_type": "execute_result"
    }
   ],
   "source": [
    "# Training performance comparison\n",
    "models_train_comp_df = pd.concat(\n",
    "    [\n",
    "        gb_random_train.T,\n",
    "        svm_random_train.T\n",
    "    ],\n",
    "    axis=1,\n",
    ")\n",
    "models_train_comp_df.columns = [\n",
    "    'Gradient Boosting tuned with random search',\n",
    "    'SVM tuned with random search',\n",
    "]\n",
    "print('Training performance comparison:')\n",
    "models_train_comp_df"
   ]
  },
  {
   "cell_type": "code",
   "execution_count": 54,
   "id": "2319418d",
   "metadata": {
    "colab": {
     "base_uri": "https://localhost:8080/",
     "height": 254
    },
    "id": "tOzIdxSMHC47",
    "outputId": "7d818fb9-d822-4716-e802-a367aebee7df"
   },
   "outputs": [
    {
     "name": "stdout",
     "output_type": "stream",
     "text": [
      "Test performance comparison:\n"
     ]
    },
    {
     "data": {
      "text/html": [
       "<div>\n",
       "<style scoped>\n",
       "    .dataframe tbody tr th:only-of-type {\n",
       "        vertical-align: middle;\n",
       "    }\n",
       "\n",
       "    .dataframe tbody tr th {\n",
       "        vertical-align: top;\n",
       "    }\n",
       "\n",
       "    .dataframe thead th {\n",
       "        text-align: right;\n",
       "    }\n",
       "</style>\n",
       "<table border=\"1\" class=\"dataframe\">\n",
       "  <thead>\n",
       "    <tr style=\"text-align: right;\">\n",
       "      <th></th>\n",
       "      <th>Gradient Boosting tuned with random search</th>\n",
       "      <th>SVM tuned with random search</th>\n",
       "    </tr>\n",
       "  </thead>\n",
       "  <tbody>\n",
       "    <tr>\n",
       "      <th>Accuracy</th>\n",
       "      <td>0.99</td>\n",
       "      <td>0.72</td>\n",
       "    </tr>\n",
       "    <tr>\n",
       "      <th>Recall</th>\n",
       "      <td>0.96</td>\n",
       "      <td>0.73</td>\n",
       "    </tr>\n",
       "    <tr>\n",
       "      <th>Precision</th>\n",
       "      <td>1.00</td>\n",
       "      <td>0.38</td>\n",
       "    </tr>\n",
       "    <tr>\n",
       "      <th>F1</th>\n",
       "      <td>0.98</td>\n",
       "      <td>0.50</td>\n",
       "    </tr>\n",
       "  </tbody>\n",
       "</table>\n",
       "</div>"
      ],
      "text/plain": [
       "           Gradient Boosting tuned with random search  \\\n",
       "Accuracy                                         0.99   \n",
       "Recall                                           0.96   \n",
       "Precision                                        1.00   \n",
       "F1                                               0.98   \n",
       "\n",
       "           SVM tuned with random search  \n",
       "Accuracy                           0.72  \n",
       "Recall                             0.73  \n",
       "Precision                          0.38  \n",
       "F1                                 0.50  "
      ]
     },
     "execution_count": 54,
     "metadata": {},
     "output_type": "execute_result"
    }
   ],
   "source": [
    "# Test performance comparison\n",
    "models_test_comp_df = pd.concat(\n",
    "    [\n",
    "        gb_random_test.T,\n",
    "        svm_random_test.T\n",
    "    ],\n",
    "    axis=1,\n",
    ")\n",
    "models_test_comp_df.columns = [\n",
    "    'Gradient Boosting tuned with random search',\n",
    "    'SVM tuned with random search',\n",
    "]\n",
    "print('Test performance comparison:')\n",
    "models_test_comp_df"
   ]
  },
  {
   "cell_type": "markdown",
   "id": "72d926bf",
   "metadata": {},
   "source": [
    "* The Gradient Boosting model tuned using randomized search is giving the best test recall of 0.96 and is generalizing well."
   ]
  },
  {
   "cell_type": "markdown",
   "id": "e2288566",
   "metadata": {},
   "source": [
    "### Feature Importances"
   ]
  },
  {
   "cell_type": "code",
   "execution_count": 55,
   "id": "4dc5b930",
   "metadata": {
    "colab": {
     "base_uri": "https://localhost:8080/",
     "height": 730
    },
    "id": "dACqkWH0HC47",
    "outputId": "204dbcbf-1295-455a-e8af-816f7768a94f"
   },
   "outputs": [
    {
     "data": {
      "image/png": "[encoded data removed]",
      "text/plain": [
       "<Figure size 900x900 with 1 Axes>"
      ]
     },
     "metadata": {},
     "output_type": "display_data"
    }
   ],
   "source": [
    "feature_names = X.columns\n",
    "feature_importances = gb_tuned.named_steps['classifier'].feature_importances_\n",
    "feature_names = gb_tuned.named_steps['preprocessor'].get_feature_names_out()\n",
    "indices = np.argsort(feature_importances)\n",
    "\n",
    "# Sort features by importance\n",
    "sorted_indices = np.argsort(feature_importances)[::-1]\n",
    "sorted_feature_importances = feature_importances[sorted_indices]\n",
    "sorted_feature_names = feature_names[sorted_indices]\n",
    "\n",
    "plt.figure(figsize=(12, 12))\n",
    "plt.title('Feature Importances')\n",
    "plt.barh(range(len(indices)), feature_importances[indices], color='violet', align='center')\n",
    "plt.yticks(range(len(indices)), [feature_names[i] for i in indices])\n",
    "plt.xlabel('Relative Importance')\n",
    "plt.show()"
   ]
  },
  {
   "cell_type": "markdown",
   "id": "2b150f35",
   "metadata": {},
   "source": [
    "* `avg_price` is the most important feature, followed by `tenure` and `customer_country_Finland`."
   ]
  },
  {
   "cell_type": "markdown",
   "id": "b7b30273",
   "metadata": {
    "id": "T2GolnQVHC4-"
   },
   "source": [
    "## Business Insights and Recommendations"
   ]
  },
  {
   "cell_type": "markdown",
   "id": "6180d727",
   "metadata": {},
   "source": [
    "* `churn` and `avg_price` have increased steadily over the three years, which indicates that the company lacks effective marketing strategies.\n",
    "    * The company should identify customers in the 'BASIC' plans or customers that have had a 'REDUCTION' in `subscription_type` and implement marketing strategies to retain these customers by offering incentives to upgrade.\n",
    "    * The most frequent (mode) `avg_price` is \\\\$53, which aligns with the 'BASIC' plan, so the company should take a close look at this opportunity to target those customers and retain them with offers for upgraded plans.\n",
    "* As noted earlier, the company should dive deep into what's working well in Norway and Sweden, which have much higher retention rates (up to 5x that of Finland), and test out those marketing strategies for customers in Finland."
   ]
  },
  {
   "cell_type": "markdown",
   "id": "a427058d",
   "metadata": {},
   "source": [
    "[Back to TOC](#Table-of-Contents)"
   ]
  }
 ],
 "metadata": {
  "kernelspec": {
   "display_name": "Python 3 (ipykernel)",
   "language": "python",
   "name": "python3"
  },
  "language_info": {
   "codemirror_mode": {
    "name": "ipython",
    "version": 3
   },
   "file_extension": ".py",
   "mimetype": "text/x-python",
   "name": "python",
   "nbconvert_exporter": "python",
   "pygments_lexer": "ipython3",
   "version": "3.11.5"
  }
 },
 "nbformat": 4,
 "nbformat_minor": 5
}
